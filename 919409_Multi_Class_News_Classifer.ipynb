{
  "nbformat": 4,
  "nbformat_minor": 0,
  "metadata": {
    "colab": {
      "name": "Multi_Class_News_Classifer",
      "provenance": [],
      "collapsed_sections": []
    },
    "kernelspec": {
      "name": "python3",
      "display_name": "Python 3"
    },
    "language_info": {
      "name": "python"
    }
  },
  "cells": [
    {
      "cell_type": "code",
      "metadata": {
        "id": "uOCvuVTfHvF0"
      },
      "source": [
        "#This model helps to predict different News classes.\n",
        "#First import all the libraries required to clean text and build model.\n",
        "import pandas as pd\n",
        "from sklearn.svm import SVC\n",
        "import spacy\n",
        "import re\n",
        "from sklearn.feature_extraction.text import TfidfVectorizer\n",
        "from sklearn.metrics import classification_report,confusion_matrix\n",
        "from sklearn.svm import LinearSVC\n",
        "from joblib import dump, load"
      ],
      "execution_count": null,
      "outputs": []
    },
    {
      "cell_type": "code",
      "metadata": {
        "colab": {
          "base_uri": "https://localhost:8080/",
          "height": 204
        },
        "id": "hA6gClb0_-D_",
        "outputId": "6942d07e-ab09-46c7-cd2f-1de41cadc7af"
      },
      "source": [
        "#import training data\n",
        "train= pd.read_excel('/content/train.csv')\n",
        "train.head()"
      ],
      "execution_count": null,
      "outputs": [
        {
          "output_type": "execute_result",
          "data": {
            "text/html": [
              "<div>\n",
              "<style scoped>\n",
              "    .dataframe tbody tr th:only-of-type {\n",
              "        vertical-align: middle;\n",
              "    }\n",
              "\n",
              "    .dataframe tbody tr th {\n",
              "        vertical-align: top;\n",
              "    }\n",
              "\n",
              "    .dataframe thead th {\n",
              "        text-align: right;\n",
              "    }\n",
              "</style>\n",
              "<table border=\"1\" class=\"dataframe\">\n",
              "  <thead>\n",
              "    <tr style=\"text-align: right;\">\n",
              "      <th></th>\n",
              "      <th>text</th>\n",
              "      <th>class</th>\n",
              "    </tr>\n",
              "  </thead>\n",
              "  <tbody>\n",
              "    <tr>\n",
              "      <th>0</th>\n",
              "      <td>? ? ? said as a result of its december acquisi...</td>\n",
              "      <td>3</td>\n",
              "    </tr>\n",
              "    <tr>\n",
              "      <th>1</th>\n",
              "      <td>? generale de banque sa lt ? br and lt heller ...</td>\n",
              "      <td>4</td>\n",
              "    </tr>\n",
              "    <tr>\n",
              "      <th>2</th>\n",
              "      <td>? shr 3 28 dlrs vs 22 cts shr diluted 2 99 dlr...</td>\n",
              "      <td>3</td>\n",
              "    </tr>\n",
              "    <tr>\n",
              "      <th>3</th>\n",
              "      <td>? the farmers home administration the u s agri...</td>\n",
              "      <td>4</td>\n",
              "    </tr>\n",
              "    <tr>\n",
              "      <th>4</th>\n",
              "      <td>? seton co said its board has received a propo...</td>\n",
              "      <td>4</td>\n",
              "    </tr>\n",
              "  </tbody>\n",
              "</table>\n",
              "</div>"
            ],
            "text/plain": [
              "                                                text  class\n",
              "0  ? ? ? said as a result of its december acquisi...      3\n",
              "1  ? generale de banque sa lt ? br and lt heller ...      4\n",
              "2  ? shr 3 28 dlrs vs 22 cts shr diluted 2 99 dlr...      3\n",
              "3  ? the farmers home administration the u s agri...      4\n",
              "4  ? seton co said its board has received a propo...      4"
            ]
          },
          "metadata": {
            "tags": []
          },
          "execution_count": 2
        }
      ]
    },
    {
      "cell_type": "code",
      "metadata": {
        "id": "y1ZWFAiHDCPH"
      },
      "source": [
        "# Creating a Method Clean Data to clean the dataset to br able to feed the model\n",
        "#start by importing useful libraries for text cleaning and lemmatization\n",
        "def clean_data(dataset):\n",
        "  #'en_core_web_sm'=English pipeline optimized for CPU. Components: tok2vec, tagger, parser, senter, ner, attribute_ruler, lemmatizer.\n",
        "  nlp = spacy.load('en_core_web_sm')\n",
        "  #the methos converts all the text into lower characters, removes any punctuation marks and removes stopwords\n",
        "  # Create a record object\n",
        "  stopwords=spacy.lang.en.stop_words\n",
        "  corpus = []\n",
        "  for i in range(0,len(dataset['text'])):\n",
        "      record = re.sub('[^a-zA-Z]', ' ', dataset['text'][i])\n",
        "      record = record.lower()\n",
        "      record = nlp(record)\n",
        "      record = \" \".join([token.lemma_ for token in record if not (nlp.vocab[token.text].is_stop  or token.text.startswith(' '))])\n",
        "      corpus.append(record)\n",
        "  return corpus"
      ],
      "execution_count": null,
      "outputs": []
    },
    {
      "cell_type": "code",
      "metadata": {
        "id": "YDQodgbmD9Uv"
      },
      "source": [
        "# Create a record object for train Data\n",
        "train_corpus=clean_data(train)\n"
      ],
      "execution_count": null,
      "outputs": []
    },
    {
      "cell_type": "code",
      "metadata": {
        "id": "YB2eXuk9IqcA"
      },
      "source": [
        "#Import the test data \n",
        "#Similarly create the same for test data.\n",
        "test= pd.read_excel('/content/test.csv')\n",
        "test_corpus=clean_data(test)"
      ],
      "execution_count": null,
      "outputs": []
    },
    {
      "cell_type": "code",
      "metadata": {
        "id": "fIcP9ftJJKbc"
      },
      "source": [
        "#We use 'TfidfVectorizer' to convert the raw features\n",
        "Feature_extracter = TfidfVectorizer()\n",
        "# Creating the Bag of Words model\n",
        "# we create X,y to feed the model\n",
        "X = Feature_extracter.fit_transform(train_corpus).toarray()\n",
        "y = train.iloc[:, 1].values\n"
      ],
      "execution_count": null,
      "outputs": []
    },
    {
      "cell_type": "code",
      "metadata": {
        "colab": {
          "base_uri": "https://localhost:8080/"
        },
        "id": "3Do0yxJ-6mCE",
        "outputId": "23253d59-50a7-4373-d379-7eb9d470a0a9"
      },
      "source": [
        "#the corpus after converting through TfidVectorizer\n",
        "X"
      ],
      "execution_count": null,
      "outputs": [
        {
          "output_type": "execute_result",
          "data": {
            "text/plain": [
              "array([[0., 0., 0., ..., 0., 0., 0.],\n",
              "       [0., 0., 0., ..., 0., 0., 0.],\n",
              "       [0., 0., 0., ..., 0., 0., 0.],\n",
              "       ...,\n",
              "       [0., 0., 0., ..., 0., 0., 0.],\n",
              "       [0., 0., 0., ..., 0., 0., 0.],\n",
              "       [0., 0., 0., ..., 0., 0., 0.]])"
            ]
          },
          "metadata": {
            "tags": []
          },
          "execution_count": 7
        }
      ]
    },
    {
      "cell_type": "code",
      "metadata": {
        "id": "XG2e1aHHzKwW"
      },
      "source": [
        "#For this model we will be using Linear Support Vector Machine Algorithm\n",
        "model=LinearSVC()\n",
        "model.fit(X,y)\n",
        "y_pred = model.predict(X)"
      ],
      "execution_count": null,
      "outputs": []
    },
    {
      "cell_type": "code",
      "metadata": {
        "colab": {
          "base_uri": "https://localhost:8080/"
        },
        "id": "5PcD885uztKF",
        "outputId": "43fe2d55-5dfa-49ac-f424-f15114b7c9ba"
      },
      "source": [
        "#After predicting the result we can see various metrics to evaluate model performance\n",
        "print(classification_report(y, y_pred))"
      ],
      "execution_count": null,
      "outputs": [
        {
          "output_type": "stream",
          "text": [
            "              precision    recall  f1-score   support\n",
            "\n",
            "           0       0.91      0.95      0.93        55\n",
            "           1       0.94      0.97      0.95       432\n",
            "           2       0.97      0.99      0.98        74\n",
            "           3       0.97      0.98      0.97      3159\n",
            "           4       0.97      0.96      0.96      1949\n",
            "           5       0.90      0.53      0.67        17\n",
            "           6       1.00      1.00      1.00        48\n",
            "           7       0.94      1.00      0.97        16\n",
            "           8       0.91      0.90      0.91       139\n",
            "           9       0.95      0.97      0.96       101\n",
            "          10       0.93      0.97      0.95       124\n",
            "          11       0.95      0.95      0.95       390\n",
            "          12       0.98      0.92      0.95        49\n",
            "          13       0.96      0.97      0.96       172\n",
            "          14       0.92      0.92      0.92        26\n",
            "          15       1.00      1.00      1.00        20\n",
            "          16       0.93      0.93      0.93       444\n",
            "          17       1.00      0.97      0.99        39\n",
            "          18       0.98      0.95      0.97        66\n",
            "          19       0.90      0.92      0.91       549\n",
            "          20       0.93      0.83      0.88       269\n",
            "          21       0.96      0.95      0.95       100\n",
            "          22       0.94      1.00      0.97        15\n",
            "          23       0.95      0.95      0.95        41\n",
            "          24       0.98      0.97      0.98        62\n",
            "          25       0.97      0.99      0.98        92\n",
            "          26       1.00      1.00      1.00        24\n",
            "          27       0.94      1.00      0.97        15\n",
            "          28       0.94      0.98      0.96        48\n",
            "          29       1.00      0.89      0.94        19\n",
            "          30       0.98      0.91      0.94        45\n",
            "          31       0.97      0.97      0.97        39\n",
            "          32       1.00      0.97      0.98        32\n",
            "          33       1.00      1.00      1.00        11\n",
            "          34       0.92      0.96      0.94        50\n",
            "          35       1.00      0.90      0.95        10\n",
            "          36       0.90      0.76      0.82        49\n",
            "          37       0.89      0.89      0.89        19\n",
            "          38       1.00      0.84      0.91        19\n",
            "          39       1.00      0.96      0.98        24\n",
            "          40       0.96      0.64      0.77        36\n",
            "          41       0.96      0.87      0.91        30\n",
            "          42       1.00      1.00      1.00        13\n",
            "          43       0.91      1.00      0.95        21\n",
            "          44       1.00      1.00      1.00        12\n",
            "          45       0.95      1.00      0.97        18\n",
            "\n",
            "    accuracy                           0.96      8982\n",
            "   macro avg       0.96      0.93      0.94      8982\n",
            "weighted avg       0.96      0.96      0.95      8982\n",
            "\n"
          ],
          "name": "stdout"
        }
      ]
    },
    {
      "cell_type": "code",
      "metadata": {
        "id": "EA9AZiQq1cth",
        "colab": {
          "base_uri": "https://localhost:8080/"
        },
        "outputId": "91894b85-68a1-4b55-d144-d7857dcbc502"
      },
      "source": [
        "#Now to predict the values for test data we first transform the test_corpus\n",
        "X_test = Feature_extracter.transform(test_corpus).toarray()\n",
        "X_test"
      ],
      "execution_count": null,
      "outputs": [
        {
          "output_type": "execute_result",
          "data": {
            "text/plain": [
              "array([[0., 0., 0., ..., 0., 0., 0.],\n",
              "       [0., 0., 0., ..., 0., 0., 0.],\n",
              "       [0., 0., 0., ..., 0., 0., 0.],\n",
              "       ...,\n",
              "       [0., 0., 0., ..., 0., 0., 0.],\n",
              "       [0., 0., 0., ..., 0., 0., 0.],\n",
              "       [0., 0., 0., ..., 0., 0., 0.]])"
            ]
          },
          "metadata": {
            "tags": []
          },
          "execution_count": 10
        }
      ]
    },
    {
      "cell_type": "code",
      "metadata": {
        "id": "r9GSIpN5xauY"
      },
      "source": [
        "#then we feed transformed data to the model\n",
        "y_test_pred = model.predict(X_test)\n"
      ],
      "execution_count": null,
      "outputs": []
    },
    {
      "cell_type": "code",
      "metadata": {
        "colab": {
          "base_uri": "https://localhost:8080/"
        },
        "id": "ZeY5HZfhzCVG",
        "outputId": "d60f4381-3c23-429c-8bd2-b4c548af77b2"
      },
      "source": [
        "X_test"
      ],
      "execution_count": null,
      "outputs": [
        {
          "output_type": "execute_result",
          "data": {
            "text/plain": [
              "array([[0., 0., 0., ..., 0., 0., 0.],\n",
              "       [0., 0., 0., ..., 0., 0., 0.],\n",
              "       [0., 0., 0., ..., 0., 0., 0.],\n",
              "       ...,\n",
              "       [0., 0., 0., ..., 0., 0., 0.],\n",
              "       [0., 0., 0., ..., 0., 0., 0.],\n",
              "       [0., 0., 0., ..., 0., 0., 0.]])"
            ]
          },
          "metadata": {
            "tags": []
          },
          "execution_count": 12
        }
      ]
    },
    {
      "cell_type": "code",
      "metadata": {
        "id": "z8uxnaWtzEK6"
      },
      "source": [
        "#we create a dataSet with id and predicted value\n",
        "ids = list(test['id'])\n",
        "\n",
        "dataSet = []\n",
        "\n",
        "for i,pred in enumerate(y_test_pred):\n",
        "    dataSet.append([ids[i],y_test_pred[i]])"
      ],
      "execution_count": null,
      "outputs": []
    },
    {
      "cell_type": "code",
      "metadata": {
        "colab": {
          "base_uri": "https://localhost:8080/"
        },
        "id": "xJ89xZfm-Yr4",
        "outputId": "028b5032-6673-4708-89b2-828d5c5a4ff0"
      },
      "source": [
        "import requests\n",
        "dataString = \"\"\n",
        "for loop in range(len(dataSet)):\n",
        "  if loop == 0:\n",
        "    dataString = str(int(dataSet[loop][0]))+','+str(int(dataSet[loop][1]))\n",
        "  else:\n",
        "    dataString = dataString+\"\\n\"+str(int(dataSet[loop][0]))+','+str(int(dataSet[loop][1]))\n",
        "\n",
        "postData = {}\n",
        "postData['challengeName'] = 'newsclassification'\n",
        "postData['userID'] = '919409'\n",
        "postData['challengeType'] = 'multiclassification'\n",
        "postData['submissionsData'] = dataString\n",
        "\n",
        "url = 'https://8n46gxwibi.execute-api.us-east-2.amazonaws.com/default/computeModelScore'\n",
        "x = requests.post(url,json=postData)\n",
        "\n",
        "print(x.text)\n"
      ],
      "execution_count": null,
      "outputs": [
        {
          "output_type": "stream",
          "text": [
            "{\"message\":\"Internal Server Error\"}\n"
          ],
          "name": "stdout"
        }
      ]
    },
    {
      "cell_type": "code",
      "metadata": {
        "colab": {
          "base_uri": "https://localhost:8080/"
        },
        "id": "RHuiIdozM5Ib",
        "outputId": "a727f4e3-1727-4ff9-d627-259e1270828e"
      },
      "source": [
        "#save the model\n",
        "dump(model, 'Multi_class_News_Classifier.joblib') "
      ],
      "execution_count": null,
      "outputs": [
        {
          "output_type": "execute_result",
          "data": {
            "text/plain": [
              "['Multi_class_News_Classifier.joblib']"
            ]
          },
          "metadata": {
            "tags": []
          },
          "execution_count": 15
        }
      ]
    }
  ]
}