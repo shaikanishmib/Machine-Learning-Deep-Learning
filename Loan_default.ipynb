{
  "nbformat": 4,
  "nbformat_minor": 0,
  "metadata": {
    "colab": {
      "name": "Loan_default",
      "provenance": [],
      "collapsed_sections": [],
      "authorship_tag": "ABX9TyN0AgLu+IdvlqLOfCyj68if",
      "include_colab_link": true
    },
    "kernelspec": {
      "name": "python3",
      "display_name": "Python 3"
    },
    "language_info": {
      "name": "python"
    }
  },
  "cells": [
    {
      "cell_type": "markdown",
      "metadata": {
        "id": "view-in-github",
        "colab_type": "text"
      },
      "source": [
        "<a href=\"https://colab.research.google.com/github/shaikanishmib/Machine-Learning-Deep-Learning/blob/main/Loan_default.ipynb\" target=\"_parent\"><img src=\"https://colab.research.google.com/assets/colab-badge.svg\" alt=\"Open In Colab\"/></a>"
      ]
    },
    {
      "cell_type": "markdown",
      "metadata": {
        "id": "sRl29It0uTNx"
      },
      "source": [
        "Importing all the neccesary Packages\n"
      ]
    },
    {
      "cell_type": "code",
      "metadata": {
        "id": "MWCyfjUkFe01",
        "colab": {
          "base_uri": "https://localhost:8080/"
        },
        "outputId": "726ac05a-669c-492d-8fe3-3c4a67e6aa08"
      },
      "source": [
        "!pip install pingouin\n",
        "import pandas as pd\n",
        "import numpy as np\n",
        "import matplotlib.pyplot as plt\n",
        "import pingouin as pg\n",
        "import seaborn as sns\n",
        "import scipy\n",
        "from sklearn.preprocessing import MinMaxScaler\n",
        "from sklearn.model_selection import train_test_split\n",
        "from sklearn.ensemble import RandomForestRegressor, GradientBoostingRegressor\n",
        "from sklearn.metrics import r2_score,mean_squared_error\n",
        "%matplotlib inline\n"
      ],
      "execution_count": 43,
      "outputs": [
        {
          "output_type": "stream",
          "name": "stdout",
          "text": [
            "Requirement already satisfied: pingouin in /usr/local/lib/python3.7/dist-packages (0.4.0)\n",
            "Requirement already satisfied: scipy>=1.7 in /usr/local/lib/python3.7/dist-packages (from pingouin) (1.7.1)\n",
            "Requirement already satisfied: seaborn>=0.9.0 in /usr/local/lib/python3.7/dist-packages (from pingouin) (0.11.2)\n",
            "Requirement already satisfied: scikit-learn in /usr/local/lib/python3.7/dist-packages (from pingouin) (0.22.2.post1)\n",
            "Requirement already satisfied: pandas-flavor>=0.2.0 in /usr/local/lib/python3.7/dist-packages (from pingouin) (0.2.0)\n",
            "Requirement already satisfied: outdated in /usr/local/lib/python3.7/dist-packages (from pingouin) (0.2.1)\n",
            "Requirement already satisfied: matplotlib>=3.0.2 in /usr/local/lib/python3.7/dist-packages (from pingouin) (3.2.2)\n",
            "Requirement already satisfied: pandas>=1.0 in /usr/local/lib/python3.7/dist-packages (from pingouin) (1.1.5)\n",
            "Requirement already satisfied: statsmodels>=0.12.0 in /usr/local/lib/python3.7/dist-packages (from pingouin) (0.13.0)\n",
            "Requirement already satisfied: tabulate in /usr/local/lib/python3.7/dist-packages (from pingouin) (0.8.9)\n",
            "Requirement already satisfied: numpy>=1.19 in /usr/local/lib/python3.7/dist-packages (from pingouin) (1.19.5)\n",
            "Requirement already satisfied: pyparsing!=2.0.4,!=2.1.2,!=2.1.6,>=2.0.1 in /usr/local/lib/python3.7/dist-packages (from matplotlib>=3.0.2->pingouin) (2.4.7)\n",
            "Requirement already satisfied: cycler>=0.10 in /usr/local/lib/python3.7/dist-packages (from matplotlib>=3.0.2->pingouin) (0.10.0)\n",
            "Requirement already satisfied: kiwisolver>=1.0.1 in /usr/local/lib/python3.7/dist-packages (from matplotlib>=3.0.2->pingouin) (1.3.2)\n",
            "Requirement already satisfied: python-dateutil>=2.1 in /usr/local/lib/python3.7/dist-packages (from matplotlib>=3.0.2->pingouin) (2.8.2)\n",
            "Requirement already satisfied: six in /usr/local/lib/python3.7/dist-packages (from cycler>=0.10->matplotlib>=3.0.2->pingouin) (1.15.0)\n",
            "Requirement already satisfied: pytz>=2017.2 in /usr/local/lib/python3.7/dist-packages (from pandas>=1.0->pingouin) (2018.9)\n",
            "Requirement already satisfied: xarray in /usr/local/lib/python3.7/dist-packages (from pandas-flavor>=0.2.0->pingouin) (0.18.2)\n",
            "Requirement already satisfied: patsy>=0.5.2 in /usr/local/lib/python3.7/dist-packages (from statsmodels>=0.12.0->pingouin) (0.5.2)\n",
            "Requirement already satisfied: littleutils in /usr/local/lib/python3.7/dist-packages (from outdated->pingouin) (0.2.2)\n",
            "Requirement already satisfied: requests in /usr/local/lib/python3.7/dist-packages (from outdated->pingouin) (2.23.0)\n",
            "Requirement already satisfied: certifi>=2017.4.17 in /usr/local/lib/python3.7/dist-packages (from requests->outdated->pingouin) (2021.5.30)\n",
            "Requirement already satisfied: urllib3!=1.25.0,!=1.25.1,<1.26,>=1.21.1 in /usr/local/lib/python3.7/dist-packages (from requests->outdated->pingouin) (1.24.3)\n",
            "Requirement already satisfied: idna<3,>=2.5 in /usr/local/lib/python3.7/dist-packages (from requests->outdated->pingouin) (2.10)\n",
            "Requirement already satisfied: chardet<4,>=3.0.2 in /usr/local/lib/python3.7/dist-packages (from requests->outdated->pingouin) (3.0.4)\n",
            "Requirement already satisfied: joblib>=0.11 in /usr/local/lib/python3.7/dist-packages (from scikit-learn->pingouin) (1.0.1)\n",
            "Requirement already satisfied: setuptools>=40.4 in /usr/local/lib/python3.7/dist-packages (from xarray->pandas-flavor>=0.2.0->pingouin) (57.4.0)\n"
          ]
        }
      ]
    },
    {
      "cell_type": "code",
      "metadata": {
        "colab": {
          "base_uri": "https://localhost:8080/",
          "height": 216
        },
        "id": "k22o7A5iKCWg",
        "outputId": "6f426e87-397a-4e1e-b052-3f767015608f"
      },
      "source": [
        "train=pd.read_csv(\"train.csv\")\n",
        "train.head(2)"
      ],
      "execution_count": null,
      "outputs": [
        {
          "output_type": "execute_result",
          "data": {
            "text/html": [
              "<div>\n",
              "<style scoped>\n",
              "    .dataframe tbody tr th:only-of-type {\n",
              "        vertical-align: middle;\n",
              "    }\n",
              "\n",
              "    .dataframe tbody tr th {\n",
              "        vertical-align: top;\n",
              "    }\n",
              "\n",
              "    .dataframe thead th {\n",
              "        text-align: right;\n",
              "    }\n",
              "</style>\n",
              "<table border=\"1\" class=\"dataframe\">\n",
              "  <thead>\n",
              "    <tr style=\"text-align: right;\">\n",
              "      <th></th>\n",
              "      <th>Customer ID</th>\n",
              "      <th>Name</th>\n",
              "      <th>Gender</th>\n",
              "      <th>Age</th>\n",
              "      <th>Income (USD)</th>\n",
              "      <th>Income Stability</th>\n",
              "      <th>Profession</th>\n",
              "      <th>Type of Employment</th>\n",
              "      <th>Location</th>\n",
              "      <th>Loan Amount Request (USD)</th>\n",
              "      <th>Current Loan Expenses (USD)</th>\n",
              "      <th>Expense Type 1</th>\n",
              "      <th>Expense Type 2</th>\n",
              "      <th>Dependents</th>\n",
              "      <th>Credit Score</th>\n",
              "      <th>No. of Defaults</th>\n",
              "      <th>Has Active Credit Card</th>\n",
              "      <th>Property ID</th>\n",
              "      <th>Property Age</th>\n",
              "      <th>Property Type</th>\n",
              "      <th>Property Location</th>\n",
              "      <th>Co-Applicant</th>\n",
              "      <th>Property Price</th>\n",
              "      <th>Loan Sanction Amount (USD)</th>\n",
              "    </tr>\n",
              "  </thead>\n",
              "  <tbody>\n",
              "    <tr>\n",
              "      <th>0</th>\n",
              "      <td>C-36995</td>\n",
              "      <td>Frederica Shealy</td>\n",
              "      <td>F</td>\n",
              "      <td>56</td>\n",
              "      <td>1933.05</td>\n",
              "      <td>Low</td>\n",
              "      <td>Working</td>\n",
              "      <td>Sales staff</td>\n",
              "      <td>Semi-Urban</td>\n",
              "      <td>72809.58</td>\n",
              "      <td>241.08</td>\n",
              "      <td>N</td>\n",
              "      <td>N</td>\n",
              "      <td>3.0</td>\n",
              "      <td>809.44</td>\n",
              "      <td>0</td>\n",
              "      <td>NaN</td>\n",
              "      <td>746</td>\n",
              "      <td>1933.05</td>\n",
              "      <td>4</td>\n",
              "      <td>Rural</td>\n",
              "      <td>1</td>\n",
              "      <td>119933.46</td>\n",
              "      <td>54607.18</td>\n",
              "    </tr>\n",
              "    <tr>\n",
              "      <th>1</th>\n",
              "      <td>C-33999</td>\n",
              "      <td>America Calderone</td>\n",
              "      <td>M</td>\n",
              "      <td>32</td>\n",
              "      <td>4952.91</td>\n",
              "      <td>Low</td>\n",
              "      <td>Working</td>\n",
              "      <td>NaN</td>\n",
              "      <td>Semi-Urban</td>\n",
              "      <td>46837.47</td>\n",
              "      <td>495.81</td>\n",
              "      <td>N</td>\n",
              "      <td>Y</td>\n",
              "      <td>1.0</td>\n",
              "      <td>780.40</td>\n",
              "      <td>0</td>\n",
              "      <td>Unpossessed</td>\n",
              "      <td>608</td>\n",
              "      <td>4952.91</td>\n",
              "      <td>2</td>\n",
              "      <td>Rural</td>\n",
              "      <td>1</td>\n",
              "      <td>54791.00</td>\n",
              "      <td>37469.98</td>\n",
              "    </tr>\n",
              "  </tbody>\n",
              "</table>\n",
              "</div>"
            ],
            "text/plain": [
              "  Customer ID               Name  ... Property Price  Loan Sanction Amount (USD)\n",
              "0     C-36995   Frederica Shealy  ...      119933.46                    54607.18\n",
              "1     C-33999  America Calderone  ...       54791.00                    37469.98\n",
              "\n",
              "[2 rows x 24 columns]"
            ]
          },
          "metadata": {},
          "execution_count": 2
        }
      ]
    },
    {
      "cell_type": "code",
      "metadata": {
        "colab": {
          "base_uri": "https://localhost:8080/",
          "height": 216
        },
        "id": "CCt-TUWANnaK",
        "outputId": "50ae0380-1d39-4dc2-f463-477686ddae17"
      },
      "source": [
        "test=pd.read_csv(\"test.csv\")\n",
        "test.head(2)"
      ],
      "execution_count": null,
      "outputs": [
        {
          "output_type": "execute_result",
          "data": {
            "text/html": [
              "<div>\n",
              "<style scoped>\n",
              "    .dataframe tbody tr th:only-of-type {\n",
              "        vertical-align: middle;\n",
              "    }\n",
              "\n",
              "    .dataframe tbody tr th {\n",
              "        vertical-align: top;\n",
              "    }\n",
              "\n",
              "    .dataframe thead th {\n",
              "        text-align: right;\n",
              "    }\n",
              "</style>\n",
              "<table border=\"1\" class=\"dataframe\">\n",
              "  <thead>\n",
              "    <tr style=\"text-align: right;\">\n",
              "      <th></th>\n",
              "      <th>Customer ID</th>\n",
              "      <th>Name</th>\n",
              "      <th>Gender</th>\n",
              "      <th>Age</th>\n",
              "      <th>Income (USD)</th>\n",
              "      <th>Income Stability</th>\n",
              "      <th>Profession</th>\n",
              "      <th>Type of Employment</th>\n",
              "      <th>Location</th>\n",
              "      <th>Loan Amount Request (USD)</th>\n",
              "      <th>Current Loan Expenses (USD)</th>\n",
              "      <th>Expense Type 1</th>\n",
              "      <th>Expense Type 2</th>\n",
              "      <th>Dependents</th>\n",
              "      <th>Credit Score</th>\n",
              "      <th>No. of Defaults</th>\n",
              "      <th>Has Active Credit Card</th>\n",
              "      <th>Property ID</th>\n",
              "      <th>Property Age</th>\n",
              "      <th>Property Type</th>\n",
              "      <th>Property Location</th>\n",
              "      <th>Co-Applicant</th>\n",
              "      <th>Property Price</th>\n",
              "    </tr>\n",
              "  </thead>\n",
              "  <tbody>\n",
              "    <tr>\n",
              "      <th>0</th>\n",
              "      <td>C-26247</td>\n",
              "      <td>Tandra Olszewski</td>\n",
              "      <td>F</td>\n",
              "      <td>47</td>\n",
              "      <td>3472.69</td>\n",
              "      <td>Low</td>\n",
              "      <td>Commercial associate</td>\n",
              "      <td>Managers</td>\n",
              "      <td>Semi-Urban</td>\n",
              "      <td>137088.98</td>\n",
              "      <td>396.72</td>\n",
              "      <td>N</td>\n",
              "      <td>N</td>\n",
              "      <td>2.0</td>\n",
              "      <td>799.14</td>\n",
              "      <td>0</td>\n",
              "      <td>Unpossessed</td>\n",
              "      <td>843</td>\n",
              "      <td>3472.69</td>\n",
              "      <td>2</td>\n",
              "      <td>Urban</td>\n",
              "      <td>1</td>\n",
              "      <td>236644.5</td>\n",
              "    </tr>\n",
              "    <tr>\n",
              "      <th>1</th>\n",
              "      <td>C-35067</td>\n",
              "      <td>Jeannette Cha</td>\n",
              "      <td>F</td>\n",
              "      <td>57</td>\n",
              "      <td>1184.84</td>\n",
              "      <td>Low</td>\n",
              "      <td>Working</td>\n",
              "      <td>Sales staff</td>\n",
              "      <td>Rural</td>\n",
              "      <td>104771.59</td>\n",
              "      <td>463.76</td>\n",
              "      <td>Y</td>\n",
              "      <td>Y</td>\n",
              "      <td>2.0</td>\n",
              "      <td>833.31</td>\n",
              "      <td>0</td>\n",
              "      <td>Unpossessed</td>\n",
              "      <td>22</td>\n",
              "      <td>1184.84</td>\n",
              "      <td>1</td>\n",
              "      <td>Rural</td>\n",
              "      <td>1</td>\n",
              "      <td>142357.3</td>\n",
              "    </tr>\n",
              "  </tbody>\n",
              "</table>\n",
              "</div>"
            ],
            "text/plain": [
              "  Customer ID              Name  ... Co-Applicant  Property Price\n",
              "0     C-26247  Tandra Olszewski  ...            1        236644.5\n",
              "1     C-35067     Jeannette Cha  ...            1        142357.3\n",
              "\n",
              "[2 rows x 23 columns]"
            ]
          },
          "metadata": {},
          "execution_count": 3
        }
      ]
    },
    {
      "cell_type": "code",
      "metadata": {
        "colab": {
          "base_uri": "https://localhost:8080/"
        },
        "id": "z1F9PoniOM7S",
        "outputId": "b04837dd-8768-46d8-b66c-0d9ff45f3efa"
      },
      "source": [
        "train.info()"
      ],
      "execution_count": null,
      "outputs": [
        {
          "output_type": "stream",
          "name": "stdout",
          "text": [
            "<class 'pandas.core.frame.DataFrame'>\n",
            "RangeIndex: 30000 entries, 0 to 29999\n",
            "Data columns (total 24 columns):\n",
            " #   Column                       Non-Null Count  Dtype  \n",
            "---  ------                       --------------  -----  \n",
            " 0   Customer ID                  30000 non-null  object \n",
            " 1   Name                         30000 non-null  object \n",
            " 2   Gender                       29947 non-null  object \n",
            " 3   Age                          30000 non-null  int64  \n",
            " 4   Income (USD)                 25424 non-null  float64\n",
            " 5   Income Stability             28317 non-null  object \n",
            " 6   Profession                   30000 non-null  object \n",
            " 7   Type of Employment           22730 non-null  object \n",
            " 8   Location                     30000 non-null  object \n",
            " 9   Loan Amount Request (USD)    30000 non-null  float64\n",
            " 10  Current Loan Expenses (USD)  29828 non-null  float64\n",
            " 11  Expense Type 1               30000 non-null  object \n",
            " 12  Expense Type 2               30000 non-null  object \n",
            " 13  Dependents                   27507 non-null  float64\n",
            " 14  Credit Score                 28297 non-null  float64\n",
            " 15  No. of Defaults              30000 non-null  int64  \n",
            " 16  Has Active Credit Card       28434 non-null  object \n",
            " 17  Property ID                  30000 non-null  int64  \n",
            " 18  Property Age                 25150 non-null  float64\n",
            " 19  Property Type                30000 non-null  int64  \n",
            " 20  Property Location            29644 non-null  object \n",
            " 21  Co-Applicant                 30000 non-null  int64  \n",
            " 22  Property Price               30000 non-null  float64\n",
            " 23  Loan Sanction Amount (USD)   29660 non-null  float64\n",
            "dtypes: float64(8), int64(5), object(11)\n",
            "memory usage: 5.5+ MB\n"
          ]
        }
      ]
    },
    {
      "cell_type": "code",
      "metadata": {
        "colab": {
          "base_uri": "https://localhost:8080/",
          "height": 368
        },
        "id": "DHOlemcXOZiN",
        "outputId": "c0f187cc-debc-4de1-9ede-28ea25abc7c4"
      },
      "source": [
        "train.describe().round()"
      ],
      "execution_count": null,
      "outputs": [
        {
          "output_type": "execute_result",
          "data": {
            "text/html": [
              "<div>\n",
              "<style scoped>\n",
              "    .dataframe tbody tr th:only-of-type {\n",
              "        vertical-align: middle;\n",
              "    }\n",
              "\n",
              "    .dataframe tbody tr th {\n",
              "        vertical-align: top;\n",
              "    }\n",
              "\n",
              "    .dataframe thead th {\n",
              "        text-align: right;\n",
              "    }\n",
              "</style>\n",
              "<table border=\"1\" class=\"dataframe\">\n",
              "  <thead>\n",
              "    <tr style=\"text-align: right;\">\n",
              "      <th></th>\n",
              "      <th>Age</th>\n",
              "      <th>Income (USD)</th>\n",
              "      <th>Loan Amount Request (USD)</th>\n",
              "      <th>Current Loan Expenses (USD)</th>\n",
              "      <th>Dependents</th>\n",
              "      <th>Credit Score</th>\n",
              "      <th>No. of Defaults</th>\n",
              "      <th>Property ID</th>\n",
              "      <th>Property Age</th>\n",
              "      <th>Property Type</th>\n",
              "      <th>Co-Applicant</th>\n",
              "      <th>Property Price</th>\n",
              "      <th>Loan Sanction Amount (USD)</th>\n",
              "    </tr>\n",
              "  </thead>\n",
              "  <tbody>\n",
              "    <tr>\n",
              "      <th>count</th>\n",
              "      <td>30000.0</td>\n",
              "      <td>25424.0</td>\n",
              "      <td>30000.0</td>\n",
              "      <td>29828.0</td>\n",
              "      <td>27507.0</td>\n",
              "      <td>28297.0</td>\n",
              "      <td>30000.0</td>\n",
              "      <td>30000.0</td>\n",
              "      <td>25150.0</td>\n",
              "      <td>30000.0</td>\n",
              "      <td>30000.0</td>\n",
              "      <td>30000.0</td>\n",
              "      <td>29660.0</td>\n",
              "    </tr>\n",
              "    <tr>\n",
              "      <th>mean</th>\n",
              "      <td>40.0</td>\n",
              "      <td>2631.0</td>\n",
              "      <td>88826.0</td>\n",
              "      <td>401.0</td>\n",
              "      <td>2.0</td>\n",
              "      <td>740.0</td>\n",
              "      <td>0.0</td>\n",
              "      <td>502.0</td>\n",
              "      <td>2631.0</td>\n",
              "      <td>2.0</td>\n",
              "      <td>-5.0</td>\n",
              "      <td>131760.0</td>\n",
              "      <td>47649.0</td>\n",
              "    </tr>\n",
              "    <tr>\n",
              "      <th>std</th>\n",
              "      <td>16.0</td>\n",
              "      <td>11263.0</td>\n",
              "      <td>59537.0</td>\n",
              "      <td>243.0</td>\n",
              "      <td>1.0</td>\n",
              "      <td>72.0</td>\n",
              "      <td>0.0</td>\n",
              "      <td>288.0</td>\n",
              "      <td>11323.0</td>\n",
              "      <td>1.0</td>\n",
              "      <td>75.0</td>\n",
              "      <td>93550.0</td>\n",
              "      <td>48221.0</td>\n",
              "    </tr>\n",
              "    <tr>\n",
              "      <th>min</th>\n",
              "      <td>18.0</td>\n",
              "      <td>378.0</td>\n",
              "      <td>6048.0</td>\n",
              "      <td>-999.0</td>\n",
              "      <td>1.0</td>\n",
              "      <td>580.0</td>\n",
              "      <td>0.0</td>\n",
              "      <td>1.0</td>\n",
              "      <td>378.0</td>\n",
              "      <td>1.0</td>\n",
              "      <td>-999.0</td>\n",
              "      <td>-999.0</td>\n",
              "      <td>-999.0</td>\n",
              "    </tr>\n",
              "    <tr>\n",
              "      <th>25%</th>\n",
              "      <td>25.0</td>\n",
              "      <td>1650.0</td>\n",
              "      <td>41178.0</td>\n",
              "      <td>248.0</td>\n",
              "      <td>2.0</td>\n",
              "      <td>682.0</td>\n",
              "      <td>0.0</td>\n",
              "      <td>251.0</td>\n",
              "      <td>1650.0</td>\n",
              "      <td>1.0</td>\n",
              "      <td>1.0</td>\n",
              "      <td>60572.0</td>\n",
              "      <td>0.0</td>\n",
              "    </tr>\n",
              "    <tr>\n",
              "      <th>50%</th>\n",
              "      <td>40.0</td>\n",
              "      <td>2222.0</td>\n",
              "      <td>75128.0</td>\n",
              "      <td>375.0</td>\n",
              "      <td>2.0</td>\n",
              "      <td>740.0</td>\n",
              "      <td>0.0</td>\n",
              "      <td>504.0</td>\n",
              "      <td>2223.0</td>\n",
              "      <td>2.0</td>\n",
              "      <td>1.0</td>\n",
              "      <td>109994.0</td>\n",
              "      <td>35209.0</td>\n",
              "    </tr>\n",
              "    <tr>\n",
              "      <th>75%</th>\n",
              "      <td>55.0</td>\n",
              "      <td>3091.0</td>\n",
              "      <td>119965.0</td>\n",
              "      <td>521.0</td>\n",
              "      <td>3.0</td>\n",
              "      <td>799.0</td>\n",
              "      <td>0.0</td>\n",
              "      <td>751.0</td>\n",
              "      <td>3091.0</td>\n",
              "      <td>3.0</td>\n",
              "      <td>1.0</td>\n",
              "      <td>178881.0</td>\n",
              "      <td>74261.0</td>\n",
              "    </tr>\n",
              "    <tr>\n",
              "      <th>max</th>\n",
              "      <td>65.0</td>\n",
              "      <td>1777460.0</td>\n",
              "      <td>621498.0</td>\n",
              "      <td>3841.0</td>\n",
              "      <td>14.0</td>\n",
              "      <td>896.0</td>\n",
              "      <td>1.0</td>\n",
              "      <td>999.0</td>\n",
              "      <td>1777460.0</td>\n",
              "      <td>4.0</td>\n",
              "      <td>1.0</td>\n",
              "      <td>1077967.0</td>\n",
              "      <td>481907.0</td>\n",
              "    </tr>\n",
              "  </tbody>\n",
              "</table>\n",
              "</div>"
            ],
            "text/plain": [
              "           Age  Income (USD)  ...  Property Price  Loan Sanction Amount (USD)\n",
              "count  30000.0       25424.0  ...         30000.0                     29660.0\n",
              "mean      40.0        2631.0  ...        131760.0                     47649.0\n",
              "std       16.0       11263.0  ...         93550.0                     48221.0\n",
              "min       18.0         378.0  ...          -999.0                      -999.0\n",
              "25%       25.0        1650.0  ...         60572.0                         0.0\n",
              "50%       40.0        2222.0  ...        109994.0                     35209.0\n",
              "75%       55.0        3091.0  ...        178881.0                     74261.0\n",
              "max       65.0     1777460.0  ...       1077967.0                    481907.0\n",
              "\n",
              "[8 rows x 13 columns]"
            ]
          },
          "metadata": {},
          "execution_count": 5
        }
      ]
    },
    {
      "cell_type": "code",
      "metadata": {
        "colab": {
          "base_uri": "https://localhost:8080/"
        },
        "id": "O5lboosGQDth",
        "outputId": "83ec46d8-d4e5-48a3-ed5a-b031f7f161a9"
      },
      "source": [
        "train.dtypes.value_counts()"
      ],
      "execution_count": null,
      "outputs": [
        {
          "output_type": "execute_result",
          "data": {
            "text/plain": [
              "object     11\n",
              "float64     8\n",
              "int64       5\n",
              "dtype: int64"
            ]
          },
          "metadata": {},
          "execution_count": 6
        }
      ]
    },
    {
      "cell_type": "code",
      "metadata": {
        "colab": {
          "base_uri": "https://localhost:8080/",
          "height": 793
        },
        "id": "Th-3wwGYWuvd",
        "outputId": "059277b8-2836-47dc-ac96-746ffdf82213"
      },
      "source": [
        "nulval = train.isnull().sum().to_frame().rename(columns={0:\"absolute\"})\n",
        "nulval[\"percent\"] = (nulval.apply(lambda x: x/x.sum())*100).round(2)\n",
        "nulval"
      ],
      "execution_count": null,
      "outputs": [
        {
          "output_type": "execute_result",
          "data": {
            "text/html": [
              "<div>\n",
              "<style scoped>\n",
              "    .dataframe tbody tr th:only-of-type {\n",
              "        vertical-align: middle;\n",
              "    }\n",
              "\n",
              "    .dataframe tbody tr th {\n",
              "        vertical-align: top;\n",
              "    }\n",
              "\n",
              "    .dataframe thead th {\n",
              "        text-align: right;\n",
              "    }\n",
              "</style>\n",
              "<table border=\"1\" class=\"dataframe\">\n",
              "  <thead>\n",
              "    <tr style=\"text-align: right;\">\n",
              "      <th></th>\n",
              "      <th>absolute</th>\n",
              "      <th>percent</th>\n",
              "    </tr>\n",
              "  </thead>\n",
              "  <tbody>\n",
              "    <tr>\n",
              "      <th>Customer ID</th>\n",
              "      <td>0</td>\n",
              "      <td>0.00</td>\n",
              "    </tr>\n",
              "    <tr>\n",
              "      <th>Name</th>\n",
              "      <td>0</td>\n",
              "      <td>0.00</td>\n",
              "    </tr>\n",
              "    <tr>\n",
              "      <th>Gender</th>\n",
              "      <td>53</td>\n",
              "      <td>0.21</td>\n",
              "    </tr>\n",
              "    <tr>\n",
              "      <th>Age</th>\n",
              "      <td>0</td>\n",
              "      <td>0.00</td>\n",
              "    </tr>\n",
              "    <tr>\n",
              "      <th>Income (USD)</th>\n",
              "      <td>4576</td>\n",
              "      <td>18.26</td>\n",
              "    </tr>\n",
              "    <tr>\n",
              "      <th>Income Stability</th>\n",
              "      <td>1683</td>\n",
              "      <td>6.72</td>\n",
              "    </tr>\n",
              "    <tr>\n",
              "      <th>Profession</th>\n",
              "      <td>0</td>\n",
              "      <td>0.00</td>\n",
              "    </tr>\n",
              "    <tr>\n",
              "      <th>Type of Employment</th>\n",
              "      <td>7270</td>\n",
              "      <td>29.01</td>\n",
              "    </tr>\n",
              "    <tr>\n",
              "      <th>Location</th>\n",
              "      <td>0</td>\n",
              "      <td>0.00</td>\n",
              "    </tr>\n",
              "    <tr>\n",
              "      <th>Loan Amount Request (USD)</th>\n",
              "      <td>0</td>\n",
              "      <td>0.00</td>\n",
              "    </tr>\n",
              "    <tr>\n",
              "      <th>Current Loan Expenses (USD)</th>\n",
              "      <td>172</td>\n",
              "      <td>0.69</td>\n",
              "    </tr>\n",
              "    <tr>\n",
              "      <th>Expense Type 1</th>\n",
              "      <td>0</td>\n",
              "      <td>0.00</td>\n",
              "    </tr>\n",
              "    <tr>\n",
              "      <th>Expense Type 2</th>\n",
              "      <td>0</td>\n",
              "      <td>0.00</td>\n",
              "    </tr>\n",
              "    <tr>\n",
              "      <th>Dependents</th>\n",
              "      <td>2493</td>\n",
              "      <td>9.95</td>\n",
              "    </tr>\n",
              "    <tr>\n",
              "      <th>Credit Score</th>\n",
              "      <td>1703</td>\n",
              "      <td>6.80</td>\n",
              "    </tr>\n",
              "    <tr>\n",
              "      <th>No. of Defaults</th>\n",
              "      <td>0</td>\n",
              "      <td>0.00</td>\n",
              "    </tr>\n",
              "    <tr>\n",
              "      <th>Has Active Credit Card</th>\n",
              "      <td>1566</td>\n",
              "      <td>6.25</td>\n",
              "    </tr>\n",
              "    <tr>\n",
              "      <th>Property ID</th>\n",
              "      <td>0</td>\n",
              "      <td>0.00</td>\n",
              "    </tr>\n",
              "    <tr>\n",
              "      <th>Property Age</th>\n",
              "      <td>4850</td>\n",
              "      <td>19.35</td>\n",
              "    </tr>\n",
              "    <tr>\n",
              "      <th>Property Type</th>\n",
              "      <td>0</td>\n",
              "      <td>0.00</td>\n",
              "    </tr>\n",
              "    <tr>\n",
              "      <th>Property Location</th>\n",
              "      <td>356</td>\n",
              "      <td>1.42</td>\n",
              "    </tr>\n",
              "    <tr>\n",
              "      <th>Co-Applicant</th>\n",
              "      <td>0</td>\n",
              "      <td>0.00</td>\n",
              "    </tr>\n",
              "    <tr>\n",
              "      <th>Property Price</th>\n",
              "      <td>0</td>\n",
              "      <td>0.00</td>\n",
              "    </tr>\n",
              "    <tr>\n",
              "      <th>Loan Sanction Amount (USD)</th>\n",
              "      <td>340</td>\n",
              "      <td>1.36</td>\n",
              "    </tr>\n",
              "  </tbody>\n",
              "</table>\n",
              "</div>"
            ],
            "text/plain": [
              "                             absolute  percent\n",
              "Customer ID                         0     0.00\n",
              "Name                                0     0.00\n",
              "Gender                             53     0.21\n",
              "Age                                 0     0.00\n",
              "Income (USD)                     4576    18.26\n",
              "Income Stability                 1683     6.72\n",
              "Profession                          0     0.00\n",
              "Type of Employment               7270    29.01\n",
              "Location                            0     0.00\n",
              "Loan Amount Request (USD)           0     0.00\n",
              "Current Loan Expenses (USD)       172     0.69\n",
              "Expense Type 1                      0     0.00\n",
              "Expense Type 2                      0     0.00\n",
              "Dependents                       2493     9.95\n",
              "Credit Score                     1703     6.80\n",
              "No. of Defaults                     0     0.00\n",
              "Has Active Credit Card           1566     6.25\n",
              "Property ID                         0     0.00\n",
              "Property Age                     4850    19.35\n",
              "Property Type                       0     0.00\n",
              "Property Location                 356     1.42\n",
              "Co-Applicant                        0     0.00\n",
              "Property Price                      0     0.00\n",
              "Loan Sanction Amount (USD)        340     1.36"
            ]
          },
          "metadata": {},
          "execution_count": 7
        }
      ]
    },
    {
      "cell_type": "code",
      "metadata": {
        "colab": {
          "base_uri": "https://localhost:8080/",
          "height": 283
        },
        "id": "QST5Kw3yW1_W",
        "outputId": "6c03f90f-968f-411d-9756-abc8f5d0ce61"
      },
      "source": [
        "plt.scatter(train['Income (USD)'],train['Loan Sanction Amount (USD)'])\n",
        "plt.ylabel('Loan Sanction Amount (USD)')\n",
        "plt.xlabel('Income (USD)')\n",
        "plt.xlim(0, 20000)\n",
        "plt.ylim(0, 300000)\n",
        "plt.show()"
      ],
      "execution_count": null,
      "outputs": [
        {
          "output_type": "display_data",
          "data": {
            "image/png": "[encoded data removed]",
            "text/plain": [
              "<Figure size 432x288 with 1 Axes>"
            ]
          },
          "metadata": {
            "needs_background": "light"
          }
        }
      ]
    },
    {
      "cell_type": "code",
      "metadata": {
        "colab": {
          "base_uri": "https://localhost:8080/",
          "height": 281
        },
        "id": "Sv52JQnnX0dm",
        "outputId": "4833d9eb-be64-448c-d353-75457f07a50b"
      },
      "source": [
        "plt.scatter(train['Property Price'],train['Loan Sanction Amount (USD)'])\n",
        "plt.ylabel('Loan Sanction Amount (USD)')\n",
        "plt.xlabel('Property Price')\n",
        "\n",
        "plt.show()"
      ],
      "execution_count": null,
      "outputs": [
        {
          "output_type": "display_data",
          "data": {
            "image/png": "[encoded data removed]",
            "text/plain": [
              "<Figure size 432x288 with 1 Axes>"
            ]
          },
          "metadata": {
            "needs_background": "light"
          }
        }
      ]
    },
    {
      "cell_type": "code",
      "metadata": {
        "colab": {
          "base_uri": "https://localhost:8080/",
          "height": 281
        },
        "id": "M9ps_7EstTNi",
        "outputId": "de1db347-32c4-410c-b3c5-886638c092aa"
      },
      "source": [
        "plt.scatter(train['Income (USD)'],train['Loan Sanction Amount (USD)'])\n",
        "plt.ylabel('Loan Sanction Amount (USD)')\n",
        "plt.xlabel('Income (USD)')\n",
        "\n",
        "plt.show()"
      ],
      "execution_count": 121,
      "outputs": [
        {
          "output_type": "display_data",
          "data": {
            "image/png": "[encoded data removed]",
            "text/plain": [
              "<Figure size 432x288 with 1 Axes>"
            ]
          },
          "metadata": {
            "needs_background": "light"
          }
        }
      ]
    },
    {
      "cell_type": "code",
      "metadata": {
        "colab": {
          "base_uri": "https://localhost:8080/",
          "height": 281
        },
        "id": "t-7cw8-5tgL7",
        "outputId": "69d485b9-5553-4832-aa94-a991dc65ecbd"
      },
      "source": [
        "plt.scatter(train['Loan Amount Request (USD)'],train['Loan Sanction Amount (USD)'])\n",
        "plt.ylabel('Loan Sanction Amount (USD)')\n",
        "plt.xlabel('Loan Amount Request (USD)')\n",
        "\n",
        "plt.show()"
      ],
      "execution_count": 122,
      "outputs": [
        {
          "output_type": "display_data",
          "data": {
            "image/png": "[encoded data removed]",
            "text/plain": [
              "<Figure size 432x288 with 1 Axes>"
            ]
          },
          "metadata": {
            "needs_background": "light"
          }
        }
      ]
    },
    {
      "cell_type": "code",
      "metadata": {
        "colab": {
          "base_uri": "https://localhost:8080/",
          "height": 281
        },
        "id": "g4DRq6eat0zI",
        "outputId": "5c39fc79-1ee9-4d09-a200-69d450fc7ccb"
      },
      "source": [
        "plt.scatter(train['Credit Score'],train['Loan Sanction Amount (USD)'])\n",
        "plt.ylabel('Loan Sanction Amount (USD)')\n",
        "plt.xlabel('Credit Score')\n",
        "\n",
        "plt.show()"
      ],
      "execution_count": 123,
      "outputs": [
        {
          "output_type": "display_data",
          "data": {
            "image/png": "[encoded data removed]",
            "text/plain": [
              "<Figure size 432x288 with 1 Axes>"
            ]
          },
          "metadata": {
            "needs_background": "light"
          }
        }
      ]
    },
    {
      "cell_type": "code",
      "metadata": {
        "colab": {
          "base_uri": "https://localhost:8080/",
          "height": 679
        },
        "id": "86RDqmxLc2-Z",
        "outputId": "f90a1a84-5352-4753-e2aa-9a436ec26d2b"
      },
      "source": [
        "mask = np.triu(train.corr(), 1)\n",
        "plt.figure(figsize=(19, 9))\n",
        "sns.heatmap(train.corr(), annot=True, vmax=1, vmin=-1, square=True, cmap='BrBG', mask=mask);"
      ],
      "execution_count": null,
      "outputs": [
        {
          "output_type": "display_data",
          "data": {
            "image/png": "[encoded data removed]",
            "text/plain": [
              "<Figure size 1368x648 with 2 Axes>"
            ]
          },
          "metadata": {
            "needs_background": "light"
          }
        }
      ]
    },
    {
      "cell_type": "code",
      "metadata": {
        "id": "q29qbVOReyQ9"
      },
      "source": [
        "data_ca = train.select_dtypes(exclude=[\"int64\",\"float64\"]).copy()\n",
        "data_nu = train.select_dtypes(exclude=[\"object\",\"category\"]).copy()"
      ],
      "execution_count": null,
      "outputs": []
    },
    {
      "cell_type": "code",
      "metadata": {
        "colab": {
          "base_uri": "https://localhost:8080/",
          "height": 940
        },
        "id": "G9lA1zvEgVF2",
        "outputId": "f1f534ef-ca8f-4e31-9afd-30c793a2c077"
      },
      "source": [
        "try:\n",
        "  fig, axs = plt.subplots(ncols=3, nrows=4, figsize=(16, 8))\n",
        "  index = 0\n",
        "  axs = axs.flatten()\n",
        "  for k,v in data_nu.items():\n",
        "      sns.boxplot(y=k, data=data_nu, ax=axs[index], orient=\"h\")\n",
        "      index += 1\n",
        "      plt.tight_layout(pad=0.4, w_pad=0.5, h_pad=5.0)\n",
        "except:\n",
        "  print(\"!!!\")"
      ],
      "execution_count": null,
      "outputs": [
        {
          "output_type": "stream",
          "name": "stderr",
          "text": [
            "/usr/local/lib/python3.7/dist-packages/seaborn/_core.py:1319: UserWarning: Horizontal orientation ignored with only `y` specified.\n",
            "  warnings.warn(single_var_warning.format(\"Horizontal\", \"y\"))\n",
            "/usr/local/lib/python3.7/dist-packages/seaborn/_core.py:1319: UserWarning: Horizontal orientation ignored with only `y` specified.\n",
            "  warnings.warn(single_var_warning.format(\"Horizontal\", \"y\"))\n",
            "/usr/local/lib/python3.7/dist-packages/seaborn/_core.py:1319: UserWarning: Horizontal orientation ignored with only `y` specified.\n",
            "  warnings.warn(single_var_warning.format(\"Horizontal\", \"y\"))\n",
            "/usr/local/lib/python3.7/dist-packages/seaborn/_core.py:1319: UserWarning: Horizontal orientation ignored with only `y` specified.\n",
            "  warnings.warn(single_var_warning.format(\"Horizontal\", \"y\"))\n",
            "/usr/local/lib/python3.7/dist-packages/seaborn/_core.py:1319: UserWarning: Horizontal orientation ignored with only `y` specified.\n",
            "  warnings.warn(single_var_warning.format(\"Horizontal\", \"y\"))\n",
            "/usr/local/lib/python3.7/dist-packages/seaborn/_core.py:1319: UserWarning: Horizontal orientation ignored with only `y` specified.\n",
            "  warnings.warn(single_var_warning.format(\"Horizontal\", \"y\"))\n",
            "/usr/local/lib/python3.7/dist-packages/seaborn/_core.py:1319: UserWarning: Horizontal orientation ignored with only `y` specified.\n",
            "  warnings.warn(single_var_warning.format(\"Horizontal\", \"y\"))\n",
            "/usr/local/lib/python3.7/dist-packages/seaborn/_core.py:1319: UserWarning: Horizontal orientation ignored with only `y` specified.\n",
            "  warnings.warn(single_var_warning.format(\"Horizontal\", \"y\"))\n",
            "/usr/local/lib/python3.7/dist-packages/seaborn/_core.py:1319: UserWarning: Horizontal orientation ignored with only `y` specified.\n",
            "  warnings.warn(single_var_warning.format(\"Horizontal\", \"y\"))\n",
            "/usr/local/lib/python3.7/dist-packages/seaborn/_core.py:1319: UserWarning: Horizontal orientation ignored with only `y` specified.\n",
            "  warnings.warn(single_var_warning.format(\"Horizontal\", \"y\"))\n",
            "/usr/local/lib/python3.7/dist-packages/seaborn/_core.py:1319: UserWarning: Horizontal orientation ignored with only `y` specified.\n",
            "  warnings.warn(single_var_warning.format(\"Horizontal\", \"y\"))\n",
            "/usr/local/lib/python3.7/dist-packages/seaborn/_core.py:1319: UserWarning: Horizontal orientation ignored with only `y` specified.\n",
            "  warnings.warn(single_var_warning.format(\"Horizontal\", \"y\"))\n"
          ]
        },
        {
          "output_type": "stream",
          "name": "stdout",
          "text": [
            "!!!\n"
          ]
        },
        {
          "output_type": "display_data",
          "data": {
            "image/png": "[encoded data removed]",
            "text/plain": [
              "<Figure size 1152x576 with 12 Axes>"
            ]
          },
          "metadata": {
            "needs_background": "light"
          }
        }
      ]
    },
    {
      "cell_type": "code",
      "metadata": {
        "colab": {
          "base_uri": "https://localhost:8080/"
        },
        "id": "3ASHpCWggb6-",
        "outputId": "6a98fcd0-121c-466a-8c4d-baafc4cec999"
      },
      "source": [
        "for column in train.columns:\n",
        "    if train[column].isna().sum() != 0:\n",
        "        missing = train[column].isna().sum()\n",
        "        portion = (missing / train.shape[0]) * 100\n",
        "        print(f\"'{column}': number of missing values '{missing}' ---> '{portion:.3f}%'\")"
      ],
      "execution_count": null,
      "outputs": [
        {
          "output_type": "stream",
          "name": "stdout",
          "text": [
            "'Gender': number of missing values '53' ---> '0.177%'\n",
            "'Income (USD)': number of missing values '4576' ---> '15.253%'\n",
            "'Income Stability': number of missing values '1683' ---> '5.610%'\n",
            "'Type of Employment': number of missing values '7270' ---> '24.233%'\n",
            "'Current Loan Expenses (USD)': number of missing values '172' ---> '0.573%'\n",
            "'Dependents': number of missing values '2493' ---> '8.310%'\n",
            "'Credit Score': number of missing values '1703' ---> '5.677%'\n",
            "'Has Active Credit Card': number of missing values '1566' ---> '5.220%'\n",
            "'Property Age': number of missing values '4850' ---> '16.167%'\n",
            "'Property Location': number of missing values '356' ---> '1.187%'\n",
            "'Loan Sanction Amount (USD)': number of missing values '340' ---> '1.133%'\n"
          ]
        }
      ]
    },
    {
      "cell_type": "code",
      "metadata": {
        "id": "LzSQIcLOjADX"
      },
      "source": [
        "train[\"Income (USD)\"] = train['Income (USD)'].fillna(train['Income (USD)'].mean())"
      ],
      "execution_count": null,
      "outputs": []
    },
    {
      "cell_type": "code",
      "metadata": {
        "id": "0y7Tey4zpF31"
      },
      "source": [
        "train[\"Income Stability\"] = train[\"Income Stability\"].fillna(train[\"Income Stability\"].value_counts().index[0])"
      ],
      "execution_count": null,
      "outputs": []
    },
    {
      "cell_type": "code",
      "metadata": {
        "id": "hUOMTLi9pteo"
      },
      "source": [
        "train[\"Dependents\"] = train[\"Dependents\"].fillna(train[\"Dependents\"].value_counts().index[0])"
      ],
      "execution_count": null,
      "outputs": []
    },
    {
      "cell_type": "code",
      "metadata": {
        "id": "X9Jr-SELq_EV"
      },
      "source": [
        "train[\"Credit Score\"] = train['Credit Score'].fillna(train['Credit Score'].mean())"
      ],
      "execution_count": null,
      "outputs": []
    },
    {
      "cell_type": "code",
      "metadata": {
        "colab": {
          "base_uri": "https://localhost:8080/"
        },
        "id": "EhhGNzmhrR6k",
        "outputId": "80d9cb71-bc5d-43b9-e335-7cb96056a605"
      },
      "source": [
        "train['Has Active Credit Card'].value_counts()"
      ],
      "execution_count": null,
      "outputs": [
        {
          "output_type": "execute_result",
          "data": {
            "text/plain": [
              "Active         9771\n",
              "Inactive       9466\n",
              "Unpossessed    9197\n",
              "Name: Has Active Credit Card, dtype: int64"
            ]
          },
          "metadata": {},
          "execution_count": 18
        }
      ]
    },
    {
      "cell_type": "code",
      "metadata": {
        "id": "7jYJBaWgsyv0"
      },
      "source": [
        "train[\"Has Active Credit Card\"] = train['Has Active Credit Card'].fillna(\"No Data\")"
      ],
      "execution_count": null,
      "outputs": []
    },
    {
      "cell_type": "code",
      "metadata": {
        "colab": {
          "base_uri": "https://localhost:8080/"
        },
        "id": "FMROWDxutmpi",
        "outputId": "504ba8b8-c96f-4404-9dc4-c2984ecbe700"
      },
      "source": [
        "train['Has Active Credit Card'].value_counts()"
      ],
      "execution_count": null,
      "outputs": [
        {
          "output_type": "execute_result",
          "data": {
            "text/plain": [
              "Active         9771\n",
              "Inactive       9466\n",
              "Unpossessed    9197\n",
              "No Data        1566\n",
              "Name: Has Active Credit Card, dtype: int64"
            ]
          },
          "metadata": {},
          "execution_count": 20
        }
      ]
    },
    {
      "cell_type": "code",
      "metadata": {
        "colab": {
          "base_uri": "https://localhost:8080/"
        },
        "id": "k8PM6392tpCO",
        "outputId": "db0f69f1-d343-43e4-f0d8-69d4e4edb9a3"
      },
      "source": [
        "train['Property Age'].value_counts()"
      ],
      "execution_count": null,
      "outputs": [
        {
          "output_type": "execute_result",
          "data": {
            "text/plain": [
              "2415.70    4\n",
              "1608.43    4\n",
              "3038.32    3\n",
              "2261.56    3\n",
              "1868.78    3\n",
              "          ..\n",
              "1876.15    1\n",
              "1670.49    1\n",
              "1333.88    1\n",
              "5063.58    1\n",
              "1216.00    1\n",
              "Name: Property Age, Length: 24179, dtype: int64"
            ]
          },
          "metadata": {},
          "execution_count": 21
        }
      ]
    },
    {
      "cell_type": "code",
      "metadata": {
        "id": "DtroezdYt16T"
      },
      "source": [
        "train.drop(['Type of Employment','Property Age'],axis=1,inplace=True)"
      ],
      "execution_count": null,
      "outputs": []
    },
    {
      "cell_type": "code",
      "metadata": {
        "colab": {
          "base_uri": "https://localhost:8080/",
          "height": 731
        },
        "id": "w7wqOVQvxQze",
        "outputId": "75c5fed7-d27a-4c5f-a792-d6a7f97f6148"
      },
      "source": [
        "nulval = train.isnull().sum().to_frame().rename(columns={0:\"absolute\"})\n",
        "nulval[\"percent\"] = (nulval.apply(lambda x: x/x.sum())*100).round(2)\n",
        "nulval"
      ],
      "execution_count": null,
      "outputs": [
        {
          "output_type": "execute_result",
          "data": {
            "text/html": [
              "<div>\n",
              "<style scoped>\n",
              "    .dataframe tbody tr th:only-of-type {\n",
              "        vertical-align: middle;\n",
              "    }\n",
              "\n",
              "    .dataframe tbody tr th {\n",
              "        vertical-align: top;\n",
              "    }\n",
              "\n",
              "    .dataframe thead th {\n",
              "        text-align: right;\n",
              "    }\n",
              "</style>\n",
              "<table border=\"1\" class=\"dataframe\">\n",
              "  <thead>\n",
              "    <tr style=\"text-align: right;\">\n",
              "      <th></th>\n",
              "      <th>absolute</th>\n",
              "      <th>percent</th>\n",
              "    </tr>\n",
              "  </thead>\n",
              "  <tbody>\n",
              "    <tr>\n",
              "      <th>Customer ID</th>\n",
              "      <td>0</td>\n",
              "      <td>0.00</td>\n",
              "    </tr>\n",
              "    <tr>\n",
              "      <th>Name</th>\n",
              "      <td>0</td>\n",
              "      <td>0.00</td>\n",
              "    </tr>\n",
              "    <tr>\n",
              "      <th>Gender</th>\n",
              "      <td>53</td>\n",
              "      <td>5.75</td>\n",
              "    </tr>\n",
              "    <tr>\n",
              "      <th>Age</th>\n",
              "      <td>0</td>\n",
              "      <td>0.00</td>\n",
              "    </tr>\n",
              "    <tr>\n",
              "      <th>Income (USD)</th>\n",
              "      <td>0</td>\n",
              "      <td>0.00</td>\n",
              "    </tr>\n",
              "    <tr>\n",
              "      <th>Income Stability</th>\n",
              "      <td>0</td>\n",
              "      <td>0.00</td>\n",
              "    </tr>\n",
              "    <tr>\n",
              "      <th>Profession</th>\n",
              "      <td>0</td>\n",
              "      <td>0.00</td>\n",
              "    </tr>\n",
              "    <tr>\n",
              "      <th>Location</th>\n",
              "      <td>0</td>\n",
              "      <td>0.00</td>\n",
              "    </tr>\n",
              "    <tr>\n",
              "      <th>Loan Amount Request (USD)</th>\n",
              "      <td>0</td>\n",
              "      <td>0.00</td>\n",
              "    </tr>\n",
              "    <tr>\n",
              "      <th>Current Loan Expenses (USD)</th>\n",
              "      <td>172</td>\n",
              "      <td>18.68</td>\n",
              "    </tr>\n",
              "    <tr>\n",
              "      <th>Expense Type 1</th>\n",
              "      <td>0</td>\n",
              "      <td>0.00</td>\n",
              "    </tr>\n",
              "    <tr>\n",
              "      <th>Expense Type 2</th>\n",
              "      <td>0</td>\n",
              "      <td>0.00</td>\n",
              "    </tr>\n",
              "    <tr>\n",
              "      <th>Dependents</th>\n",
              "      <td>0</td>\n",
              "      <td>0.00</td>\n",
              "    </tr>\n",
              "    <tr>\n",
              "      <th>Credit Score</th>\n",
              "      <td>0</td>\n",
              "      <td>0.00</td>\n",
              "    </tr>\n",
              "    <tr>\n",
              "      <th>No. of Defaults</th>\n",
              "      <td>0</td>\n",
              "      <td>0.00</td>\n",
              "    </tr>\n",
              "    <tr>\n",
              "      <th>Has Active Credit Card</th>\n",
              "      <td>0</td>\n",
              "      <td>0.00</td>\n",
              "    </tr>\n",
              "    <tr>\n",
              "      <th>Property ID</th>\n",
              "      <td>0</td>\n",
              "      <td>0.00</td>\n",
              "    </tr>\n",
              "    <tr>\n",
              "      <th>Property Type</th>\n",
              "      <td>0</td>\n",
              "      <td>0.00</td>\n",
              "    </tr>\n",
              "    <tr>\n",
              "      <th>Property Location</th>\n",
              "      <td>356</td>\n",
              "      <td>38.65</td>\n",
              "    </tr>\n",
              "    <tr>\n",
              "      <th>Co-Applicant</th>\n",
              "      <td>0</td>\n",
              "      <td>0.00</td>\n",
              "    </tr>\n",
              "    <tr>\n",
              "      <th>Property Price</th>\n",
              "      <td>0</td>\n",
              "      <td>0.00</td>\n",
              "    </tr>\n",
              "    <tr>\n",
              "      <th>Loan Sanction Amount (USD)</th>\n",
              "      <td>340</td>\n",
              "      <td>36.92</td>\n",
              "    </tr>\n",
              "  </tbody>\n",
              "</table>\n",
              "</div>"
            ],
            "text/plain": [
              "                             absolute  percent\n",
              "Customer ID                         0     0.00\n",
              "Name                                0     0.00\n",
              "Gender                             53     5.75\n",
              "Age                                 0     0.00\n",
              "Income (USD)                        0     0.00\n",
              "Income Stability                    0     0.00\n",
              "Profession                          0     0.00\n",
              "Location                            0     0.00\n",
              "Loan Amount Request (USD)           0     0.00\n",
              "Current Loan Expenses (USD)       172    18.68\n",
              "Expense Type 1                      0     0.00\n",
              "Expense Type 2                      0     0.00\n",
              "Dependents                          0     0.00\n",
              "Credit Score                        0     0.00\n",
              "No. of Defaults                     0     0.00\n",
              "Has Active Credit Card              0     0.00\n",
              "Property ID                         0     0.00\n",
              "Property Type                       0     0.00\n",
              "Property Location                 356    38.65\n",
              "Co-Applicant                        0     0.00\n",
              "Property Price                      0     0.00\n",
              "Loan Sanction Amount (USD)        340    36.92"
            ]
          },
          "metadata": {},
          "execution_count": 23
        }
      ]
    },
    {
      "cell_type": "code",
      "metadata": {
        "colab": {
          "base_uri": "https://localhost:8080/"
        },
        "id": "6ADCa7RhxYOR",
        "outputId": "b748bd16-ac4f-465e-fe7d-c98efc55e523"
      },
      "source": [
        "train.info()"
      ],
      "execution_count": null,
      "outputs": [
        {
          "output_type": "stream",
          "name": "stdout",
          "text": [
            "<class 'pandas.core.frame.DataFrame'>\n",
            "RangeIndex: 30000 entries, 0 to 29999\n",
            "Data columns (total 22 columns):\n",
            " #   Column                       Non-Null Count  Dtype  \n",
            "---  ------                       --------------  -----  \n",
            " 0   Customer ID                  30000 non-null  object \n",
            " 1   Name                         30000 non-null  object \n",
            " 2   Gender                       29947 non-null  object \n",
            " 3   Age                          30000 non-null  int64  \n",
            " 4   Income (USD)                 30000 non-null  float64\n",
            " 5   Income Stability             30000 non-null  object \n",
            " 6   Profession                   30000 non-null  object \n",
            " 7   Location                     30000 non-null  object \n",
            " 8   Loan Amount Request (USD)    30000 non-null  float64\n",
            " 9   Current Loan Expenses (USD)  29828 non-null  float64\n",
            " 10  Expense Type 1               30000 non-null  object \n",
            " 11  Expense Type 2               30000 non-null  object \n",
            " 12  Dependents                   30000 non-null  float64\n",
            " 13  Credit Score                 30000 non-null  float64\n",
            " 14  No. of Defaults              30000 non-null  int64  \n",
            " 15  Has Active Credit Card       30000 non-null  object \n",
            " 16  Property ID                  30000 non-null  int64  \n",
            " 17  Property Type                30000 non-null  int64  \n",
            " 18  Property Location            29644 non-null  object \n",
            " 19  Co-Applicant                 30000 non-null  int64  \n",
            " 20  Property Price               30000 non-null  float64\n",
            " 21  Loan Sanction Amount (USD)   29660 non-null  float64\n",
            "dtypes: float64(7), int64(5), object(10)\n",
            "memory usage: 5.0+ MB\n"
          ]
        }
      ]
    },
    {
      "cell_type": "code",
      "metadata": {
        "id": "eXj2sc8SxnQ6"
      },
      "source": [
        "train.drop(['Customer ID','Name','Property ID'],axis=1,inplace=True)\n",
        "train.drop(['Age','Dependents','No. of Defaults', 'Property Type', 'Co-Applicant','Gender','Profession','Location','Expense Type 1','Expense Type 2','Has Active Credit Card','Property Location'],axis=1,inplace=True)"
      ],
      "execution_count": null,
      "outputs": []
    },
    {
      "cell_type": "code",
      "metadata": {
        "id": "CyNKcBsAzyau"
      },
      "source": [
        "train=train.dropna()\n",
        "train= train.reset_index(drop = True)"
      ],
      "execution_count": null,
      "outputs": []
    },
    {
      "cell_type": "code",
      "metadata": {
        "id": "PjWE3T3Lz053"
      },
      "source": [
        "train_nu = train.select_dtypes(exclude=[\"object\",\"category\"]).copy()"
      ],
      "execution_count": null,
      "outputs": []
    },
    {
      "cell_type": "code",
      "metadata": {
        "id": "wY5LrGhz0Ibw"
      },
      "source": [
        "Xnum = train_nu.drop([\"Loan Sanction Amount (USD)\"], axis= \"columns\")\n",
        "ynum = train_nu['Loan Sanction Amount (USD)']\n"
      ],
      "execution_count": null,
      "outputs": []
    },
    {
      "cell_type": "code",
      "metadata": {
        "colab": {
          "base_uri": "https://localhost:8080/",
          "height": 204
        },
        "id": "0QF78dr40aaO",
        "outputId": "c065e7df-0029-4363-8907-46665c899aea"
      },
      "source": [
        "pd.DataFrame(\n",
        "    [scipy.stats.pearsonr(Xnum[col], \n",
        "    ynum) for col in Xnum.columns], \n",
        "    columns=[\"Pearson Corr.\", \"p-value\"], \n",
        "    index=Xnum.columns,\n",
        ").round(4)"
      ],
      "execution_count": null,
      "outputs": [
        {
          "output_type": "execute_result",
          "data": {
            "text/html": [
              "<div>\n",
              "<style scoped>\n",
              "    .dataframe tbody tr th:only-of-type {\n",
              "        vertical-align: middle;\n",
              "    }\n",
              "\n",
              "    .dataframe tbody tr th {\n",
              "        vertical-align: top;\n",
              "    }\n",
              "\n",
              "    .dataframe thead th {\n",
              "        text-align: right;\n",
              "    }\n",
              "</style>\n",
              "<table border=\"1\" class=\"dataframe\">\n",
              "  <thead>\n",
              "    <tr style=\"text-align: right;\">\n",
              "      <th></th>\n",
              "      <th>Pearson Corr.</th>\n",
              "      <th>p-value</th>\n",
              "    </tr>\n",
              "  </thead>\n",
              "  <tbody>\n",
              "    <tr>\n",
              "      <th>Income (USD)</th>\n",
              "      <td>0.0349</td>\n",
              "      <td>0.0</td>\n",
              "    </tr>\n",
              "    <tr>\n",
              "      <th>Loan Amount Request (USD)</th>\n",
              "      <td>0.7255</td>\n",
              "      <td>0.0</td>\n",
              "    </tr>\n",
              "    <tr>\n",
              "      <th>Current Loan Expenses (USD)</th>\n",
              "      <td>0.4851</td>\n",
              "      <td>0.0</td>\n",
              "    </tr>\n",
              "    <tr>\n",
              "      <th>Credit Score</th>\n",
              "      <td>0.3598</td>\n",
              "      <td>0.0</td>\n",
              "    </tr>\n",
              "    <tr>\n",
              "      <th>Property Price</th>\n",
              "      <td>0.6864</td>\n",
              "      <td>0.0</td>\n",
              "    </tr>\n",
              "  </tbody>\n",
              "</table>\n",
              "</div>"
            ],
            "text/plain": [
              "                             Pearson Corr.  p-value\n",
              "Income (USD)                        0.0349      0.0\n",
              "Loan Amount Request (USD)           0.7255      0.0\n",
              "Current Loan Expenses (USD)         0.4851      0.0\n",
              "Credit Score                        0.3598      0.0\n",
              "Property Price                      0.6864      0.0"
            ]
          },
          "metadata": {},
          "execution_count": 29
        }
      ]
    },
    {
      "cell_type": "markdown",
      "metadata": {
        "id": "OUF0Ztjs-qRF"
      },
      "source": [
        "The features having p-value higher than 0.05 has to be removed. i.e. 'Age','Dependents','No.of Defaults', 'Property Type', 'Co-Applicant'."
      ]
    },
    {
      "cell_type": "code",
      "metadata": {
        "id": "hOxawKnN0eJv"
      },
      "source": [
        "Xcat = train.select_dtypes(exclude=['int64','float64']).copy()"
      ],
      "execution_count": null,
      "outputs": []
    },
    {
      "cell_type": "code",
      "metadata": {
        "id": "JaZNJxMA_Tu8"
      },
      "source": [
        "Xcat['target'] = train['Loan Sanction Amount (USD)']\n",
        "Xcat.dropna(how=\"any\", inplace=True)\n",
        "ycat = Xcat.target\n",
        "Xcat.drop(\"target\", axis=1, inplace=True)"
      ],
      "execution_count": null,
      "outputs": []
    },
    {
      "cell_type": "code",
      "metadata": {
        "id": "3XKSPB7z_eT6",
        "colab": {
          "base_uri": "https://localhost:8080/",
          "height": 242
        },
        "outputId": "030a8089-c620-412e-fc41-e2a6e2eaf34e"
      },
      "source": [
        "for col in Xcat.columns:\n",
        "    table = pd.crosstab(Xcat[col], ycat)\n",
        "    print()\n",
        "    display(table)\n",
        "    _, pval, _, expected_table = scipy.stats.chi2_contingency(table)\n",
        "    print(f\"p-value: {pval:.25f}\")"
      ],
      "execution_count": null,
      "outputs": [
        {
          "output_type": "stream",
          "name": "stdout",
          "text": [
            "\n"
          ]
        },
        {
          "output_type": "display_data",
          "data": {
            "text/html": [
              "<div>\n",
              "<style scoped>\n",
              "    .dataframe tbody tr th:only-of-type {\n",
              "        vertical-align: middle;\n",
              "    }\n",
              "\n",
              "    .dataframe tbody tr th {\n",
              "        vertical-align: top;\n",
              "    }\n",
              "\n",
              "    .dataframe thead th {\n",
              "        text-align: right;\n",
              "    }\n",
              "</style>\n",
              "<table border=\"1\" class=\"dataframe\">\n",
              "  <thead>\n",
              "    <tr style=\"text-align: right;\">\n",
              "      <th>target</th>\n",
              "      <th>-999.00</th>\n",
              "      <th>0.00</th>\n",
              "      <th>4023.18</th>\n",
              "      <th>4121.66</th>\n",
              "      <th>4183.49</th>\n",
              "      <th>4319.61</th>\n",
              "      <th>4417.18</th>\n",
              "      <th>4445.54</th>\n",
              "      <th>4482.97</th>\n",
              "      <th>4488.02</th>\n",
              "      <th>4507.67</th>\n",
              "      <th>4554.33</th>\n",
              "      <th>4572.19</th>\n",
              "      <th>4581.22</th>\n",
              "      <th>4589.30</th>\n",
              "      <th>4592.28</th>\n",
              "      <th>4619.50</th>\n",
              "      <th>4642.29</th>\n",
              "      <th>4672.09</th>\n",
              "      <th>4673.32</th>\n",
              "      <th>4685.74</th>\n",
              "      <th>4704.34</th>\n",
              "      <th>4724.21</th>\n",
              "      <th>4730.36</th>\n",
              "      <th>4792.63</th>\n",
              "      <th>4874.06</th>\n",
              "      <th>4874.91</th>\n",
              "      <th>4880.12</th>\n",
              "      <th>4880.49</th>\n",
              "      <th>4886.44</th>\n",
              "      <th>4910.30</th>\n",
              "      <th>4939.76</th>\n",
              "      <th>4979.95</th>\n",
              "      <th>4983.50</th>\n",
              "      <th>5005.04</th>\n",
              "      <th>5062.41</th>\n",
              "      <th>5066.94</th>\n",
              "      <th>5083.23</th>\n",
              "      <th>5130.35</th>\n",
              "      <th>5143.77</th>\n",
              "      <th>...</th>\n",
              "      <th>257393.33</th>\n",
              "      <th>258527.86</th>\n",
              "      <th>260138.31</th>\n",
              "      <th>261033.50</th>\n",
              "      <th>261392.65</th>\n",
              "      <th>261486.85</th>\n",
              "      <th>261793.48</th>\n",
              "      <th>262816.61</th>\n",
              "      <th>265539.22</th>\n",
              "      <th>266138.86</th>\n",
              "      <th>266492.98</th>\n",
              "      <th>267630.05</th>\n",
              "      <th>267751.53</th>\n",
              "      <th>268156.50</th>\n",
              "      <th>269309.77</th>\n",
              "      <th>270552.64</th>\n",
              "      <th>271793.03</th>\n",
              "      <th>272666.44</th>\n",
              "      <th>273930.76</th>\n",
              "      <th>274277.23</th>\n",
              "      <th>276618.44</th>\n",
              "      <th>278166.37</th>\n",
              "      <th>278542.94</th>\n",
              "      <th>279688.12</th>\n",
              "      <th>280759.36</th>\n",
              "      <th>286627.98</th>\n",
              "      <th>286728.12</th>\n",
              "      <th>287083.11</th>\n",
              "      <th>287540.07</th>\n",
              "      <th>288477.14</th>\n",
              "      <th>289506.99</th>\n",
              "      <th>292666.61</th>\n",
              "      <th>293150.14</th>\n",
              "      <th>301457.20</th>\n",
              "      <th>313452.68</th>\n",
              "      <th>313502.39</th>\n",
              "      <th>323233.31</th>\n",
              "      <th>326730.56</th>\n",
              "      <th>395368.74</th>\n",
              "      <th>481907.32</th>\n",
              "    </tr>\n",
              "    <tr>\n",
              "      <th>Income Stability</th>\n",
              "      <th></th>\n",
              "      <th></th>\n",
              "      <th></th>\n",
              "      <th></th>\n",
              "      <th></th>\n",
              "      <th></th>\n",
              "      <th></th>\n",
              "      <th></th>\n",
              "      <th></th>\n",
              "      <th></th>\n",
              "      <th></th>\n",
              "      <th></th>\n",
              "      <th></th>\n",
              "      <th></th>\n",
              "      <th></th>\n",
              "      <th></th>\n",
              "      <th></th>\n",
              "      <th></th>\n",
              "      <th></th>\n",
              "      <th></th>\n",
              "      <th></th>\n",
              "      <th></th>\n",
              "      <th></th>\n",
              "      <th></th>\n",
              "      <th></th>\n",
              "      <th></th>\n",
              "      <th></th>\n",
              "      <th></th>\n",
              "      <th></th>\n",
              "      <th></th>\n",
              "      <th></th>\n",
              "      <th></th>\n",
              "      <th></th>\n",
              "      <th></th>\n",
              "      <th></th>\n",
              "      <th></th>\n",
              "      <th></th>\n",
              "      <th></th>\n",
              "      <th></th>\n",
              "      <th></th>\n",
              "      <th></th>\n",
              "      <th></th>\n",
              "      <th></th>\n",
              "      <th></th>\n",
              "      <th></th>\n",
              "      <th></th>\n",
              "      <th></th>\n",
              "      <th></th>\n",
              "      <th></th>\n",
              "      <th></th>\n",
              "      <th></th>\n",
              "      <th></th>\n",
              "      <th></th>\n",
              "      <th></th>\n",
              "      <th></th>\n",
              "      <th></th>\n",
              "      <th></th>\n",
              "      <th></th>\n",
              "      <th></th>\n",
              "      <th></th>\n",
              "      <th></th>\n",
              "      <th></th>\n",
              "      <th></th>\n",
              "      <th></th>\n",
              "      <th></th>\n",
              "      <th></th>\n",
              "      <th></th>\n",
              "      <th></th>\n",
              "      <th></th>\n",
              "      <th></th>\n",
              "      <th></th>\n",
              "      <th></th>\n",
              "      <th></th>\n",
              "      <th></th>\n",
              "      <th></th>\n",
              "      <th></th>\n",
              "      <th></th>\n",
              "      <th></th>\n",
              "      <th></th>\n",
              "      <th></th>\n",
              "      <th></th>\n",
              "    </tr>\n",
              "  </thead>\n",
              "  <tbody>\n",
              "    <tr>\n",
              "      <th>High</th>\n",
              "      <td>19</td>\n",
              "      <td>374</td>\n",
              "      <td>0</td>\n",
              "      <td>0</td>\n",
              "      <td>0</td>\n",
              "      <td>0</td>\n",
              "      <td>0</td>\n",
              "      <td>0</td>\n",
              "      <td>0</td>\n",
              "      <td>0</td>\n",
              "      <td>0</td>\n",
              "      <td>0</td>\n",
              "      <td>0</td>\n",
              "      <td>0</td>\n",
              "      <td>0</td>\n",
              "      <td>0</td>\n",
              "      <td>0</td>\n",
              "      <td>0</td>\n",
              "      <td>0</td>\n",
              "      <td>0</td>\n",
              "      <td>0</td>\n",
              "      <td>0</td>\n",
              "      <td>0</td>\n",
              "      <td>0</td>\n",
              "      <td>0</td>\n",
              "      <td>0</td>\n",
              "      <td>0</td>\n",
              "      <td>0</td>\n",
              "      <td>0</td>\n",
              "      <td>0</td>\n",
              "      <td>0</td>\n",
              "      <td>0</td>\n",
              "      <td>0</td>\n",
              "      <td>0</td>\n",
              "      <td>1</td>\n",
              "      <td>0</td>\n",
              "      <td>0</td>\n",
              "      <td>0</td>\n",
              "      <td>1</td>\n",
              "      <td>0</td>\n",
              "      <td>...</td>\n",
              "      <td>0</td>\n",
              "      <td>0</td>\n",
              "      <td>0</td>\n",
              "      <td>0</td>\n",
              "      <td>0</td>\n",
              "      <td>1</td>\n",
              "      <td>0</td>\n",
              "      <td>0</td>\n",
              "      <td>0</td>\n",
              "      <td>1</td>\n",
              "      <td>0</td>\n",
              "      <td>0</td>\n",
              "      <td>0</td>\n",
              "      <td>1</td>\n",
              "      <td>0</td>\n",
              "      <td>0</td>\n",
              "      <td>0</td>\n",
              "      <td>1</td>\n",
              "      <td>1</td>\n",
              "      <td>0</td>\n",
              "      <td>0</td>\n",
              "      <td>0</td>\n",
              "      <td>0</td>\n",
              "      <td>0</td>\n",
              "      <td>0</td>\n",
              "      <td>0</td>\n",
              "      <td>0</td>\n",
              "      <td>0</td>\n",
              "      <td>0</td>\n",
              "      <td>0</td>\n",
              "      <td>1</td>\n",
              "      <td>0</td>\n",
              "      <td>0</td>\n",
              "      <td>0</td>\n",
              "      <td>0</td>\n",
              "      <td>0</td>\n",
              "      <td>0</td>\n",
              "      <td>0</td>\n",
              "      <td>0</td>\n",
              "      <td>0</td>\n",
              "    </tr>\n",
              "    <tr>\n",
              "      <th>Low</th>\n",
              "      <td>315</td>\n",
              "      <td>7473</td>\n",
              "      <td>1</td>\n",
              "      <td>1</td>\n",
              "      <td>1</td>\n",
              "      <td>1</td>\n",
              "      <td>1</td>\n",
              "      <td>1</td>\n",
              "      <td>1</td>\n",
              "      <td>1</td>\n",
              "      <td>1</td>\n",
              "      <td>1</td>\n",
              "      <td>1</td>\n",
              "      <td>1</td>\n",
              "      <td>1</td>\n",
              "      <td>1</td>\n",
              "      <td>1</td>\n",
              "      <td>1</td>\n",
              "      <td>1</td>\n",
              "      <td>1</td>\n",
              "      <td>1</td>\n",
              "      <td>1</td>\n",
              "      <td>1</td>\n",
              "      <td>1</td>\n",
              "      <td>1</td>\n",
              "      <td>1</td>\n",
              "      <td>1</td>\n",
              "      <td>1</td>\n",
              "      <td>1</td>\n",
              "      <td>1</td>\n",
              "      <td>1</td>\n",
              "      <td>1</td>\n",
              "      <td>1</td>\n",
              "      <td>1</td>\n",
              "      <td>0</td>\n",
              "      <td>1</td>\n",
              "      <td>1</td>\n",
              "      <td>1</td>\n",
              "      <td>0</td>\n",
              "      <td>1</td>\n",
              "      <td>...</td>\n",
              "      <td>1</td>\n",
              "      <td>1</td>\n",
              "      <td>1</td>\n",
              "      <td>1</td>\n",
              "      <td>1</td>\n",
              "      <td>0</td>\n",
              "      <td>1</td>\n",
              "      <td>1</td>\n",
              "      <td>1</td>\n",
              "      <td>0</td>\n",
              "      <td>1</td>\n",
              "      <td>1</td>\n",
              "      <td>1</td>\n",
              "      <td>0</td>\n",
              "      <td>1</td>\n",
              "      <td>1</td>\n",
              "      <td>1</td>\n",
              "      <td>0</td>\n",
              "      <td>0</td>\n",
              "      <td>1</td>\n",
              "      <td>1</td>\n",
              "      <td>1</td>\n",
              "      <td>1</td>\n",
              "      <td>1</td>\n",
              "      <td>1</td>\n",
              "      <td>1</td>\n",
              "      <td>1</td>\n",
              "      <td>1</td>\n",
              "      <td>1</td>\n",
              "      <td>1</td>\n",
              "      <td>0</td>\n",
              "      <td>1</td>\n",
              "      <td>1</td>\n",
              "      <td>1</td>\n",
              "      <td>1</td>\n",
              "      <td>1</td>\n",
              "      <td>1</td>\n",
              "      <td>1</td>\n",
              "      <td>1</td>\n",
              "      <td>1</td>\n",
              "    </tr>\n",
              "  </tbody>\n",
              "</table>\n",
              "<p>2 rows × 21306 columns</p>\n",
              "</div>"
            ],
            "text/plain": [
              "target            -999.00      0.00       ...   395368.74   481907.32\n",
              "Income Stability                          ...                        \n",
              "High                      19         374  ...           0           0\n",
              "Low                      315        7473  ...           1           1\n",
              "\n",
              "[2 rows x 21306 columns]"
            ]
          },
          "metadata": {}
        },
        {
          "output_type": "stream",
          "name": "stdout",
          "text": [
            "p-value: 0.0000000000000000000000000\n"
          ]
        }
      ]
    },
    {
      "cell_type": "code",
      "metadata": {
        "id": "CCwP_yw8_hdD"
      },
      "source": [
        " train[\"Income Stability\"] = train[\"Income Stability\"].map({\"High\":1,\"Low\":0})\n"
      ],
      "execution_count": null,
      "outputs": []
    },
    {
      "cell_type": "markdown",
      "metadata": {
        "id": "Qd1dCl_yAD-d"
      },
      "source": [
        "Remove all the columns having p-value greater than 0.05. "
      ]
    },
    {
      "cell_type": "code",
      "metadata": {
        "id": "VOZO4lbYBcBN",
        "colab": {
          "base_uri": "https://localhost:8080/"
        },
        "outputId": "83dc1a77-f5b5-43c4-9166-da19bc99817f"
      },
      "source": [
        "train.info()"
      ],
      "execution_count": null,
      "outputs": [
        {
          "output_type": "stream",
          "name": "stdout",
          "text": [
            "<class 'pandas.core.frame.DataFrame'>\n",
            "RangeIndex: 29493 entries, 0 to 29492\n",
            "Data columns (total 7 columns):\n",
            " #   Column                       Non-Null Count  Dtype  \n",
            "---  ------                       --------------  -----  \n",
            " 0   Income (USD)                 29493 non-null  float64\n",
            " 1   Income Stability             29493 non-null  int64  \n",
            " 2   Loan Amount Request (USD)    29493 non-null  float64\n",
            " 3   Current Loan Expenses (USD)  29493 non-null  float64\n",
            " 4   Credit Score                 29493 non-null  float64\n",
            " 5   Property Price               29493 non-null  float64\n",
            " 6   Loan Sanction Amount (USD)   29493 non-null  float64\n",
            "dtypes: float64(6), int64(1)\n",
            "memory usage: 1.6 MB\n"
          ]
        }
      ]
    },
    {
      "cell_type": "code",
      "metadata": {
        "id": "fUZET1MXGr1T"
      },
      "source": [
        "train.to_csv(\"train_final_V2.csv\")"
      ],
      "execution_count": null,
      "outputs": []
    },
    {
      "cell_type": "code",
      "metadata": {
        "id": "99eCkRC-SCiH",
        "colab": {
          "base_uri": "https://localhost:8080/",
          "height": 436
        },
        "outputId": "ff4b1162-26fe-45f2-9812-9074821c0a58"
      },
      "source": [
        "train"
      ],
      "execution_count": null,
      "outputs": [
        {
          "output_type": "execute_result",
          "data": {
            "text/html": [
              "<div>\n",
              "<style scoped>\n",
              "    .dataframe tbody tr th:only-of-type {\n",
              "        vertical-align: middle;\n",
              "    }\n",
              "\n",
              "    .dataframe tbody tr th {\n",
              "        vertical-align: top;\n",
              "    }\n",
              "\n",
              "    .dataframe thead th {\n",
              "        text-align: right;\n",
              "    }\n",
              "</style>\n",
              "<table border=\"1\" class=\"dataframe\">\n",
              "  <thead>\n",
              "    <tr style=\"text-align: right;\">\n",
              "      <th></th>\n",
              "      <th>Income (USD)</th>\n",
              "      <th>Income Stability</th>\n",
              "      <th>Loan Amount Request (USD)</th>\n",
              "      <th>Current Loan Expenses (USD)</th>\n",
              "      <th>Credit Score</th>\n",
              "      <th>Property Price</th>\n",
              "      <th>Loan Sanction Amount (USD)</th>\n",
              "    </tr>\n",
              "  </thead>\n",
              "  <tbody>\n",
              "    <tr>\n",
              "      <th>0</th>\n",
              "      <td>1933.050000</td>\n",
              "      <td>0</td>\n",
              "      <td>72809.58</td>\n",
              "      <td>241.08</td>\n",
              "      <td>809.440000</td>\n",
              "      <td>119933.46</td>\n",
              "      <td>54607.18</td>\n",
              "    </tr>\n",
              "    <tr>\n",
              "      <th>1</th>\n",
              "      <td>4952.910000</td>\n",
              "      <td>0</td>\n",
              "      <td>46837.47</td>\n",
              "      <td>495.81</td>\n",
              "      <td>780.400000</td>\n",
              "      <td>54791.00</td>\n",
              "      <td>37469.98</td>\n",
              "    </tr>\n",
              "    <tr>\n",
              "      <th>2</th>\n",
              "      <td>988.190000</td>\n",
              "      <td>1</td>\n",
              "      <td>45593.04</td>\n",
              "      <td>171.95</td>\n",
              "      <td>833.150000</td>\n",
              "      <td>72440.58</td>\n",
              "      <td>36474.43</td>\n",
              "    </tr>\n",
              "    <tr>\n",
              "      <th>3</th>\n",
              "      <td>2630.574417</td>\n",
              "      <td>1</td>\n",
              "      <td>80057.92</td>\n",
              "      <td>298.54</td>\n",
              "      <td>832.700000</td>\n",
              "      <td>121441.51</td>\n",
              "      <td>56040.54</td>\n",
              "    </tr>\n",
              "    <tr>\n",
              "      <th>4</th>\n",
              "      <td>2614.770000</td>\n",
              "      <td>0</td>\n",
              "      <td>113858.89</td>\n",
              "      <td>491.41</td>\n",
              "      <td>745.550000</td>\n",
              "      <td>208567.91</td>\n",
              "      <td>74008.28</td>\n",
              "    </tr>\n",
              "    <tr>\n",
              "      <th>...</th>\n",
              "      <td>...</td>\n",
              "      <td>...</td>\n",
              "      <td>...</td>\n",
              "      <td>...</td>\n",
              "      <td>...</td>\n",
              "      <td>...</td>\n",
              "      <td>...</td>\n",
              "    </tr>\n",
              "    <tr>\n",
              "      <th>29488</th>\n",
              "      <td>4969.410000</td>\n",
              "      <td>0</td>\n",
              "      <td>76657.90</td>\n",
              "      <td>722.34</td>\n",
              "      <td>869.610000</td>\n",
              "      <td>111096.56</td>\n",
              "      <td>68992.11</td>\n",
              "    </tr>\n",
              "    <tr>\n",
              "      <th>29489</th>\n",
              "      <td>1606.880000</td>\n",
              "      <td>0</td>\n",
              "      <td>66595.14</td>\n",
              "      <td>253.04</td>\n",
              "      <td>729.410000</td>\n",
              "      <td>73453.94</td>\n",
              "      <td>46616.60</td>\n",
              "    </tr>\n",
              "    <tr>\n",
              "      <th>29490</th>\n",
              "      <td>2630.574417</td>\n",
              "      <td>0</td>\n",
              "      <td>81410.08</td>\n",
              "      <td>583.11</td>\n",
              "      <td>739.885381</td>\n",
              "      <td>102108.02</td>\n",
              "      <td>61057.56</td>\n",
              "    </tr>\n",
              "    <tr>\n",
              "      <th>29491</th>\n",
              "      <td>2417.710000</td>\n",
              "      <td>0</td>\n",
              "      <td>142524.10</td>\n",
              "      <td>378.29</td>\n",
              "      <td>677.270000</td>\n",
              "      <td>168194.47</td>\n",
              "      <td>99766.87</td>\n",
              "    </tr>\n",
              "    <tr>\n",
              "      <th>29492</th>\n",
              "      <td>3068.240000</td>\n",
              "      <td>1</td>\n",
              "      <td>156290.54</td>\n",
              "      <td>693.94</td>\n",
              "      <td>815.440000</td>\n",
              "      <td>194512.60</td>\n",
              "      <td>117217.90</td>\n",
              "    </tr>\n",
              "  </tbody>\n",
              "</table>\n",
              "<p>29493 rows × 7 columns</p>\n",
              "</div>"
            ],
            "text/plain": [
              "       Income (USD)  ...  Loan Sanction Amount (USD)\n",
              "0       1933.050000  ...                    54607.18\n",
              "1       4952.910000  ...                    37469.98\n",
              "2        988.190000  ...                    36474.43\n",
              "3       2630.574417  ...                    56040.54\n",
              "4       2614.770000  ...                    74008.28\n",
              "...             ...  ...                         ...\n",
              "29488   4969.410000  ...                    68992.11\n",
              "29489   1606.880000  ...                    46616.60\n",
              "29490   2630.574417  ...                    61057.56\n",
              "29491   2417.710000  ...                    99766.87\n",
              "29492   3068.240000  ...                   117217.90\n",
              "\n",
              "[29493 rows x 7 columns]"
            ]
          },
          "metadata": {},
          "execution_count": 36
        }
      ]
    },
    {
      "cell_type": "code",
      "metadata": {
        "colab": {
          "base_uri": "https://localhost:8080/"
        },
        "id": "D_eNcfBvXdYI",
        "outputId": "43797aa3-2ea7-4b1f-c26e-e14840847b10"
      },
      "source": [
        "train['Loan Sanction Amount (USD)'].value_counts()"
      ],
      "execution_count": null,
      "outputs": [
        {
          "output_type": "execute_result",
          "data": {
            "text/plain": [
              " 0.00         7847\n",
              "-999.00        334\n",
              " 28937.45        3\n",
              " 27767.18        2\n",
              " 15270.22        2\n",
              "              ... \n",
              " 61901.05        1\n",
              " 288477.14       1\n",
              " 35293.26        1\n",
              " 52457.57        1\n",
              " 34041.85        1\n",
              "Name: Loan Sanction Amount (USD), Length: 21306, dtype: int64"
            ]
          },
          "metadata": {},
          "execution_count": 37
        }
      ]
    },
    {
      "cell_type": "code",
      "metadata": {
        "id": "WrqEHfqpX2eY"
      },
      "source": [
        "index_names = train[ (train['Loan Sanction Amount (USD)'] == -999.00) ].index"
      ],
      "execution_count": null,
      "outputs": []
    },
    {
      "cell_type": "code",
      "metadata": {
        "colab": {
          "base_uri": "https://localhost:8080/"
        },
        "id": "JbpBhs9gfiXG",
        "outputId": "45eea6cf-3ede-46a1-9793-5b6efa67701c"
      },
      "source": [
        "index_names"
      ],
      "execution_count": null,
      "outputs": [
        {
          "output_type": "execute_result",
          "data": {
            "text/plain": [
              "Int64Index([   22,   143,   248,   381,   477,   565,   610,   663,   683,\n",
              "              732,\n",
              "            ...\n",
              "            28788, 28851, 28997, 29129, 29195, 29294, 29369, 29409, 29429,\n",
              "            29431],\n",
              "           dtype='int64', length=334)"
            ]
          },
          "metadata": {},
          "execution_count": 39
        }
      ]
    },
    {
      "cell_type": "code",
      "metadata": {
        "id": "eMg_U6eIfo-_"
      },
      "source": [
        "train=train.drop(index_names)\n",
        "train= train.reset_index(drop = True)"
      ],
      "execution_count": null,
      "outputs": []
    },
    {
      "cell_type": "code",
      "metadata": {
        "colab": {
          "base_uri": "https://localhost:8080/"
        },
        "id": "DTqgCfIAgA1D",
        "outputId": "27ce2f60-fee6-4fd1-9df6-484328b2460a"
      },
      "source": [
        "train1=pd.read_csv(\"train_final_V2.csv\")\n",
        "train1.info()"
      ],
      "execution_count": null,
      "outputs": [
        {
          "output_type": "stream",
          "name": "stdout",
          "text": [
            "<class 'pandas.core.frame.DataFrame'>\n",
            "RangeIndex: 29493 entries, 0 to 29492\n",
            "Data columns (total 8 columns):\n",
            " #   Column                       Non-Null Count  Dtype  \n",
            "---  ------                       --------------  -----  \n",
            " 0   Unnamed: 0                   29493 non-null  int64  \n",
            " 1   Income (USD)                 29493 non-null  float64\n",
            " 2   Income Stability             29493 non-null  int64  \n",
            " 3   Loan Amount Request (USD)    29493 non-null  float64\n",
            " 4   Current Loan Expenses (USD)  29493 non-null  float64\n",
            " 5   Credit Score                 29493 non-null  float64\n",
            " 6   Property Price               29493 non-null  float64\n",
            " 7   Loan Sanction Amount (USD)   29493 non-null  float64\n",
            "dtypes: float64(6), int64(2)\n",
            "memory usage: 1.8 MB\n"
          ]
        }
      ]
    },
    {
      "cell_type": "code",
      "metadata": {
        "id": "kNEC9k9hbLt5"
      },
      "source": [
        "X=train1[['Income (USD)','Income Stability','Loan Amount Request (USD)','Current Loan Expenses (USD)','Credit Score','Property Price']]"
      ],
      "execution_count": 54,
      "outputs": []
    },
    {
      "cell_type": "code",
      "metadata": {
        "colab": {
          "base_uri": "https://localhost:8080/",
          "height": 436
        },
        "id": "1DFoa13zeEY8",
        "outputId": "fdf660c0-c942-4d5e-a523-0f398f402946"
      },
      "source": [
        "X"
      ],
      "execution_count": 55,
      "outputs": [
        {
          "output_type": "execute_result",
          "data": {
            "text/html": [
              "<div>\n",
              "<style scoped>\n",
              "    .dataframe tbody tr th:only-of-type {\n",
              "        vertical-align: middle;\n",
              "    }\n",
              "\n",
              "    .dataframe tbody tr th {\n",
              "        vertical-align: top;\n",
              "    }\n",
              "\n",
              "    .dataframe thead th {\n",
              "        text-align: right;\n",
              "    }\n",
              "</style>\n",
              "<table border=\"1\" class=\"dataframe\">\n",
              "  <thead>\n",
              "    <tr style=\"text-align: right;\">\n",
              "      <th></th>\n",
              "      <th>Income (USD)</th>\n",
              "      <th>Income Stability</th>\n",
              "      <th>Loan Amount Request (USD)</th>\n",
              "      <th>Current Loan Expenses (USD)</th>\n",
              "      <th>Credit Score</th>\n",
              "      <th>Property Price</th>\n",
              "    </tr>\n",
              "  </thead>\n",
              "  <tbody>\n",
              "    <tr>\n",
              "      <th>0</th>\n",
              "      <td>1933.05</td>\n",
              "      <td>0</td>\n",
              "      <td>72809.58</td>\n",
              "      <td>241.08</td>\n",
              "      <td>809.44</td>\n",
              "      <td>119933.46</td>\n",
              "    </tr>\n",
              "    <tr>\n",
              "      <th>1</th>\n",
              "      <td>4952.91</td>\n",
              "      <td>0</td>\n",
              "      <td>46837.47</td>\n",
              "      <td>495.81</td>\n",
              "      <td>780.40</td>\n",
              "      <td>54791.00</td>\n",
              "    </tr>\n",
              "    <tr>\n",
              "      <th>2</th>\n",
              "      <td>988.19</td>\n",
              "      <td>1</td>\n",
              "      <td>45593.04</td>\n",
              "      <td>171.95</td>\n",
              "      <td>833.15</td>\n",
              "      <td>72440.58</td>\n",
              "    </tr>\n",
              "    <tr>\n",
              "      <th>3</th>\n",
              "      <td>2630.57</td>\n",
              "      <td>1</td>\n",
              "      <td>80057.92</td>\n",
              "      <td>298.54</td>\n",
              "      <td>832.70</td>\n",
              "      <td>121441.51</td>\n",
              "    </tr>\n",
              "    <tr>\n",
              "      <th>4</th>\n",
              "      <td>2614.77</td>\n",
              "      <td>0</td>\n",
              "      <td>113858.89</td>\n",
              "      <td>491.41</td>\n",
              "      <td>745.55</td>\n",
              "      <td>208567.91</td>\n",
              "    </tr>\n",
              "    <tr>\n",
              "      <th>...</th>\n",
              "      <td>...</td>\n",
              "      <td>...</td>\n",
              "      <td>...</td>\n",
              "      <td>...</td>\n",
              "      <td>...</td>\n",
              "      <td>...</td>\n",
              "    </tr>\n",
              "    <tr>\n",
              "      <th>29488</th>\n",
              "      <td>4969.41</td>\n",
              "      <td>0</td>\n",
              "      <td>76657.90</td>\n",
              "      <td>722.34</td>\n",
              "      <td>869.61</td>\n",
              "      <td>111096.56</td>\n",
              "    </tr>\n",
              "    <tr>\n",
              "      <th>29489</th>\n",
              "      <td>1606.88</td>\n",
              "      <td>0</td>\n",
              "      <td>66595.14</td>\n",
              "      <td>253.04</td>\n",
              "      <td>729.41</td>\n",
              "      <td>73453.94</td>\n",
              "    </tr>\n",
              "    <tr>\n",
              "      <th>29490</th>\n",
              "      <td>2630.57</td>\n",
              "      <td>0</td>\n",
              "      <td>81410.08</td>\n",
              "      <td>583.11</td>\n",
              "      <td>739.89</td>\n",
              "      <td>102108.02</td>\n",
              "    </tr>\n",
              "    <tr>\n",
              "      <th>29491</th>\n",
              "      <td>2417.71</td>\n",
              "      <td>0</td>\n",
              "      <td>142524.10</td>\n",
              "      <td>378.29</td>\n",
              "      <td>677.27</td>\n",
              "      <td>168194.47</td>\n",
              "    </tr>\n",
              "    <tr>\n",
              "      <th>29492</th>\n",
              "      <td>3068.24</td>\n",
              "      <td>1</td>\n",
              "      <td>156290.54</td>\n",
              "      <td>693.94</td>\n",
              "      <td>815.44</td>\n",
              "      <td>194512.60</td>\n",
              "    </tr>\n",
              "  </tbody>\n",
              "</table>\n",
              "<p>29493 rows × 6 columns</p>\n",
              "</div>"
            ],
            "text/plain": [
              "       Income (USD)  Income Stability  ...  Credit Score  Property Price\n",
              "0           1933.05                 0  ...        809.44       119933.46\n",
              "1           4952.91                 0  ...        780.40        54791.00\n",
              "2            988.19                 1  ...        833.15        72440.58\n",
              "3           2630.57                 1  ...        832.70       121441.51\n",
              "4           2614.77                 0  ...        745.55       208567.91\n",
              "...             ...               ...  ...           ...             ...\n",
              "29488       4969.41                 0  ...        869.61       111096.56\n",
              "29489       1606.88                 0  ...        729.41        73453.94\n",
              "29490       2630.57                 0  ...        739.89       102108.02\n",
              "29491       2417.71                 0  ...        677.27       168194.47\n",
              "29492       3068.24                 1  ...        815.44       194512.60\n",
              "\n",
              "[29493 rows x 6 columns]"
            ]
          },
          "metadata": {},
          "execution_count": 55
        }
      ]
    },
    {
      "cell_type": "code",
      "metadata": {
        "id": "ItBSsS25eFmv"
      },
      "source": [
        "y=train1['Loan Sanction Amount (USD)']"
      ],
      "execution_count": 56,
      "outputs": []
    },
    {
      "cell_type": "code",
      "metadata": {
        "id": "Oi6Ef5frevL2"
      },
      "source": [
        "X_train, X_test, y_train, y_test = train_test_split(X, y, test_size=0.33)"
      ],
      "execution_count": 90,
      "outputs": []
    },
    {
      "cell_type": "code",
      "metadata": {
        "id": "ZcGiIpFCfLNd"
      },
      "source": [
        "scaler = MinMaxScaler()\n",
        "X_train= scaler.fit_transform(X_train)\n",
        "X_test= scaler.transform(X_test)"
      ],
      "execution_count": 92,
      "outputs": []
    },
    {
      "cell_type": "code",
      "metadata": {
        "id": "nzeoRXPmhdF7"
      },
      "source": [
        "regressor1 = RandomForestRegressor(bootstrap=False,max_features=0.7,min_samples_leaf=0.004196633747563344,min_samples_split=0.008991789964660124,n_estimators=25,)\n"
      ],
      "execution_count": 94,
      "outputs": []
    },
    {
      "cell_type": "code",
      "metadata": {
        "colab": {
          "base_uri": "https://localhost:8080/"
        },
        "id": "vj1aK0eui4NX",
        "outputId": "0b760eee-89fa-49df-b16e-8076c61e0bac"
      },
      "source": [
        "regressor1.fit(X_train, y_train)"
      ],
      "execution_count": 95,
      "outputs": [
        {
          "output_type": "execute_result",
          "data": {
            "text/plain": [
              "RandomForestRegressor(bootstrap=False, ccp_alpha=0.0, criterion='mse',\n",
              "                      max_depth=None, max_features=0.7, max_leaf_nodes=None,\n",
              "                      max_samples=None, min_impurity_decrease=0.0,\n",
              "                      min_impurity_split=None,\n",
              "                      min_samples_leaf=0.004196633747563344,\n",
              "                      min_samples_split=0.008991789964660124,\n",
              "                      min_weight_fraction_leaf=0.0, n_estimators=25,\n",
              "                      n_jobs=None, oob_score=False, random_state=None,\n",
              "                      verbose=0, warm_start=False)"
            ]
          },
          "metadata": {},
          "execution_count": 95
        }
      ]
    },
    {
      "cell_type": "code",
      "metadata": {
        "id": "5bPeW6_zjphH"
      },
      "source": [
        "y_pred1 = regressor.predict(X_test)"
      ],
      "execution_count": 96,
      "outputs": []
    },
    {
      "cell_type": "code",
      "metadata": {
        "colab": {
          "base_uri": "https://localhost:8080/",
          "height": 295
        },
        "id": "olXI3qrpjySf",
        "outputId": "ece8a7f1-c977-43fc-fff9-6bbc236de831"
      },
      "source": [
        "X_test=np.arange(0,len(X_test),1)\n",
        "plt.scatter(X_test, y_test, color = 'red')\n",
        "plt.scatter(X_test, y_pred1, color = 'green')\n",
        "plt.title('Random Forest Regression')\n",
        "plt.xlabel('Features')\n",
        "plt.ylabel('Amount')\n",
        "plt.show()"
      ],
      "execution_count": 78,
      "outputs": [
        {
          "output_type": "display_data",
          "data": {
            "image/png": "[encoded data removed]",
            "text/plain": [
              "<Figure size 432x288 with 1 Axes>"
            ]
          },
          "metadata": {
            "needs_background": "light"
          }
        }
      ]
    },
    {
      "cell_type": "code",
      "metadata": {
        "colab": {
          "base_uri": "https://localhost:8080/"
        },
        "id": "u-B9njgKkKv_",
        "outputId": "508bcf0d-a081-4f99-b736-8d09ded3c729"
      },
      "source": [
        "r2_score(y_test, y_pred1)"
      ],
      "execution_count": 98,
      "outputs": [
        {
          "output_type": "execute_result",
          "data": {
            "text/plain": [
              "0.6694849377273793"
            ]
          },
          "metadata": {},
          "execution_count": 98
        }
      ]
    },
    {
      "cell_type": "code",
      "metadata": {
        "id": "a_Nr8VpTmmdA"
      },
      "source": [
        "regressor2=GradientBoostingRegressor(max_depth=4)"
      ],
      "execution_count": 99,
      "outputs": []
    },
    {
      "cell_type": "code",
      "metadata": {
        "colab": {
          "base_uri": "https://localhost:8080/"
        },
        "id": "ePck6ScAoUuq",
        "outputId": "0ec79879-c531-44cd-fe48-9ac8bca4020f"
      },
      "source": [
        "regressor2.fit(X_train, y_train)"
      ],
      "execution_count": 100,
      "outputs": [
        {
          "output_type": "execute_result",
          "data": {
            "text/plain": [
              "GradientBoostingRegressor(alpha=0.9, ccp_alpha=0.0, criterion='friedman_mse',\n",
              "                          init=None, learning_rate=0.1, loss='ls', max_depth=4,\n",
              "                          max_features=None, max_leaf_nodes=None,\n",
              "                          min_impurity_decrease=0.0, min_impurity_split=None,\n",
              "                          min_samples_leaf=1, min_samples_split=2,\n",
              "                          min_weight_fraction_leaf=0.0, n_estimators=100,\n",
              "                          n_iter_no_change=None, presort='deprecated',\n",
              "                          random_state=None, subsample=1.0, tol=0.0001,\n",
              "                          validation_fraction=0.1, verbose=0, warm_start=False)"
            ]
          },
          "metadata": {},
          "execution_count": 100
        }
      ]
    },
    {
      "cell_type": "code",
      "metadata": {
        "id": "y9sstTksoYNF"
      },
      "source": [
        "y_pred2 = regressor2.predict(X_test)"
      ],
      "execution_count": 103,
      "outputs": []
    },
    {
      "cell_type": "code",
      "metadata": {
        "colab": {
          "base_uri": "https://localhost:8080/"
        },
        "id": "Y-QO-RipobY3",
        "outputId": "326dee7b-5d21-4874-e15b-bac21108bced"
      },
      "source": [
        "r2_score(y_test, y_pred2)"
      ],
      "execution_count": 104,
      "outputs": [
        {
          "output_type": "execute_result",
          "data": {
            "text/plain": [
              "0.6689495515519368"
            ]
          },
          "metadata": {},
          "execution_count": 104
        }
      ]
    },
    {
      "cell_type": "code",
      "metadata": {
        "id": "d7dAhl0LsMf0"
      },
      "source": [
        ""
      ],
      "execution_count": null,
      "outputs": []
    }
  ]
}